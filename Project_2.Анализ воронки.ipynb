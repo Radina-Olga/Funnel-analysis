{
  "nbformat": 4,
  "nbformat_minor": 0,
  "metadata": {
    "kernelspec": {
      "display_name": "Python 3",
      "language": "python",
      "name": "python3"
    },
    "language_info": {
      "codemirror_mode": {
        "name": "ipython",
        "version": 3
      },
      "file_extension": ".py",
      "mimetype": "text/x-python",
      "name": "python",
      "nbconvert_exporter": "python",
      "pygments_lexer": "ipython3",
      "version": "3.8.5"
    },
    "colab": {
      "name": "Project 2.ipynb",
      "provenance": []
    }
  },
  "cells": [
    {
      "cell_type": "markdown",
      "metadata": {
        "id": "SglcT5mwRbXF"
      },
      "source": [
        "# Project-2 Анализ воронки"
      ]
    },
    {
      "cell_type": "markdown",
      "metadata": {
        "id": "IZ1tdGfuRbXH"
      },
      "source": [
        "### Задачи:\n",
        "**1. Проверить, отличается ли время прохождения различных этапов для пользователей, которые прошли обучение, от пользователей, не начинавших обучение.** Насколько обучение сокращает время прохождения этапов?\n",
        "\n",
        "**2. Посмотреть, существует ли зависимость между вероятностью оплаты вопросов и количеством обучений, которые начинал или завершал пользователь.** Нужно доказать, что успешное обучение само по себе влияет на оплату, и без разницы, каким этапом оно шло.\n",
        "\n",
        "**3. Дополнительная задача. Как часто пользователи начинают обучение после того, как они выбрали уровень сложности?** Это позволит нам понять, насколько прозрачен процесс взаимодействия с игрой: если пользователи после выбора уровня сложности обращаются к обучению, значит, работа с приложением непонятна."
      ]
    },
    {
      "cell_type": "code",
      "metadata": {
        "id": "6LL0j5MWRbXI"
      },
      "source": [
        "#Загрузка библиотек и файлов\n",
        "import pandas as pd\n",
        "events = pd.read_csv('7_4_Events.csv')\n",
        "purch = pd.read_csv('purchase_-_purchase.csv')"
      ],
      "execution_count": null,
      "outputs": []
    },
    {
      "cell_type": "markdown",
      "metadata": {
        "id": "fGmJD3KJRbXK"
      },
      "source": [
        "### Отбираем пользователей, которые зарегистрировались в 2018 году (с 1 января по 31 декабря 2018 года включительно)"
      ]
    },
    {
      "cell_type": "code",
      "metadata": {
        "id": "nPr4YN2HRbXL",
        "outputId": "ea42e551-fa7a-415e-e32b-3df2ac151654"
      },
      "source": [
        "# Работаем с датасетом, включающим данные о событиях, которые совершают пользователи.\n",
        "cond = (events.start_time>='2018-01-01') & (events.start_time<'2019-01-01') & (events.event_type=='registration')\n",
        "registered = events[cond]['user_id'].to_list() # список пользователей, зарег. в 2018\n",
        "events18 = events[events.user_id.isin(registered)]\n",
        "events18.info()"
      ],
      "execution_count": null,
      "outputs": [
        {
          "name": "stdout",
          "output_type": "stream",
          "text": [
            "<class 'pandas.core.frame.DataFrame'>\n",
            "Int64Index: 66959 entries, 51405 to 118364\n",
            "Data columns (total 6 columns):\n",
            " #   Column          Non-Null Count  Dtype  \n",
            "---  ------          --------------  -----  \n",
            " 0   id              66959 non-null  int64  \n",
            " 1   event_type      66959 non-null  object \n",
            " 2   selected_level  8342 non-null   object \n",
            " 3   start_time      66959 non-null  object \n",
            " 4   tutorial_id     32954 non-null  float64\n",
            " 5   user_id         66959 non-null  int64  \n",
            "dtypes: float64(1), int64(2), object(3)\n",
            "memory usage: 3.6+ MB\n"
          ]
        }
      ]
    },
    {
      "cell_type": "code",
      "metadata": {
        "id": "NERNPWnIRbXM",
        "outputId": "17d5ba95-1ab5-4814-9555-d40fae83aff6"
      },
      "source": [
        "events18.describe(include = 'all')"
      ],
      "execution_count": null,
      "outputs": [
        {
          "data": {
            "text/html": [
              "<div>\n",
              "<style scoped>\n",
              "    .dataframe tbody tr th:only-of-type {\n",
              "        vertical-align: middle;\n",
              "    }\n",
              "\n",
              "    .dataframe tbody tr th {\n",
              "        vertical-align: top;\n",
              "    }\n",
              "\n",
              "    .dataframe thead th {\n",
              "        text-align: right;\n",
              "    }\n",
              "</style>\n",
              "<table border=\"1\" class=\"dataframe\">\n",
              "  <thead>\n",
              "    <tr style=\"text-align: right;\">\n",
              "      <th></th>\n",
              "      <th>id</th>\n",
              "      <th>event_type</th>\n",
              "      <th>selected_level</th>\n",
              "      <th>start_time</th>\n",
              "      <th>tutorial_id</th>\n",
              "      <th>user_id</th>\n",
              "    </tr>\n",
              "  </thead>\n",
              "  <tbody>\n",
              "    <tr>\n",
              "      <th>count</th>\n",
              "      <td>66959.000000</td>\n",
              "      <td>66959</td>\n",
              "      <td>8342</td>\n",
              "      <td>66959</td>\n",
              "      <td>32954.000000</td>\n",
              "      <td>66959.000000</td>\n",
              "    </tr>\n",
              "    <tr>\n",
              "      <th>unique</th>\n",
              "      <td>NaN</td>\n",
              "      <td>5</td>\n",
              "      <td>3</td>\n",
              "      <td>66809</td>\n",
              "      <td>NaN</td>\n",
              "      <td>NaN</td>\n",
              "    </tr>\n",
              "    <tr>\n",
              "      <th>top</th>\n",
              "      <td>NaN</td>\n",
              "      <td>registration</td>\n",
              "      <td>medium</td>\n",
              "      <td>2018-03-13T09:37:43</td>\n",
              "      <td>NaN</td>\n",
              "      <td>NaN</td>\n",
              "    </tr>\n",
              "    <tr>\n",
              "      <th>freq</th>\n",
              "      <td>NaN</td>\n",
              "      <td>19926</td>\n",
              "      <td>4645</td>\n",
              "      <td>9</td>\n",
              "      <td>NaN</td>\n",
              "      <td>NaN</td>\n",
              "    </tr>\n",
              "    <tr>\n",
              "      <th>mean</th>\n",
              "      <td>113787.000045</td>\n",
              "      <td>NaN</td>\n",
              "      <td>NaN</td>\n",
              "      <td>NaN</td>\n",
              "      <td>40532.934393</td>\n",
              "      <td>37781.543362</td>\n",
              "    </tr>\n",
              "    <tr>\n",
              "      <th>std</th>\n",
              "      <td>19329.542752</td>\n",
              "      <td>NaN</td>\n",
              "      <td>NaN</td>\n",
              "      <td>NaN</td>\n",
              "      <td>5213.486632</td>\n",
              "      <td>5751.497904</td>\n",
              "    </tr>\n",
              "    <tr>\n",
              "      <th>min</th>\n",
              "      <td>80308.000000</td>\n",
              "      <td>NaN</td>\n",
              "      <td>NaN</td>\n",
              "      <td>NaN</td>\n",
              "      <td>31505.000000</td>\n",
              "      <td>27832.000000</td>\n",
              "    </tr>\n",
              "    <tr>\n",
              "      <th>25%</th>\n",
              "      <td>97047.500000</td>\n",
              "      <td>NaN</td>\n",
              "      <td>NaN</td>\n",
              "      <td>NaN</td>\n",
              "      <td>36008.250000</td>\n",
              "      <td>32849.000000</td>\n",
              "    </tr>\n",
              "    <tr>\n",
              "      <th>50%</th>\n",
              "      <td>113787.000000</td>\n",
              "      <td>NaN</td>\n",
              "      <td>NaN</td>\n",
              "      <td>NaN</td>\n",
              "      <td>40529.500000</td>\n",
              "      <td>37719.000000</td>\n",
              "    </tr>\n",
              "    <tr>\n",
              "      <th>75%</th>\n",
              "      <td>130526.500000</td>\n",
              "      <td>NaN</td>\n",
              "      <td>NaN</td>\n",
              "      <td>NaN</td>\n",
              "      <td>45057.750000</td>\n",
              "      <td>42733.000000</td>\n",
              "    </tr>\n",
              "    <tr>\n",
              "      <th>max</th>\n",
              "      <td>147267.000000</td>\n",
              "      <td>NaN</td>\n",
              "      <td>NaN</td>\n",
              "      <td>NaN</td>\n",
              "      <td>49554.000000</td>\n",
              "      <td>47757.000000</td>\n",
              "    </tr>\n",
              "  </tbody>\n",
              "</table>\n",
              "</div>"
            ],
            "text/plain": [
              "                   id    event_type selected_level           start_time  \\\n",
              "count    66959.000000         66959           8342                66959   \n",
              "unique            NaN             5              3                66809   \n",
              "top               NaN  registration         medium  2018-03-13T09:37:43   \n",
              "freq              NaN         19926           4645                    9   \n",
              "mean    113787.000045           NaN            NaN                  NaN   \n",
              "std      19329.542752           NaN            NaN                  NaN   \n",
              "min      80308.000000           NaN            NaN                  NaN   \n",
              "25%      97047.500000           NaN            NaN                  NaN   \n",
              "50%     113787.000000           NaN            NaN                  NaN   \n",
              "75%     130526.500000           NaN            NaN                  NaN   \n",
              "max     147267.000000           NaN            NaN                  NaN   \n",
              "\n",
              "         tutorial_id       user_id  \n",
              "count   32954.000000  66959.000000  \n",
              "unique           NaN           NaN  \n",
              "top              NaN           NaN  \n",
              "freq             NaN           NaN  \n",
              "mean    40532.934393  37781.543362  \n",
              "std      5213.486632   5751.497904  \n",
              "min     31505.000000  27832.000000  \n",
              "25%     36008.250000  32849.000000  \n",
              "50%     40529.500000  37719.000000  \n",
              "75%     45057.750000  42733.000000  \n",
              "max     49554.000000  47757.000000  "
            ]
          },
          "execution_count": 158,
          "metadata": {},
          "output_type": "execute_result"
        }
      ]
    },
    {
      "cell_type": "code",
      "metadata": {
        "id": "n5ve_ZzgRbXM",
        "outputId": "62f1e32c-bea2-4eb8-edef-32a0d3f6a633"
      },
      "source": [
        "events18.event_type.unique()"
      ],
      "execution_count": null,
      "outputs": [
        {
          "data": {
            "text/plain": [
              "array(['registration', 'tutorial_start', 'tutorial_finish',\n",
              "       'level_choice', 'pack_choice'], dtype=object)"
            ]
          },
          "execution_count": 159,
          "metadata": {},
          "output_type": "execute_result"
        }
      ]
    },
    {
      "cell_type": "code",
      "metadata": {
        "id": "fzVn2f6jRbXN",
        "outputId": "ef1f3568-a9ac-4e3c-d270-edec96c0af37"
      },
      "source": [
        "events18.selected_level.unique()"
      ],
      "execution_count": null,
      "outputs": [
        {
          "data": {
            "text/plain": [
              "array([nan, 'medium', 'hard', 'easy'], dtype=object)"
            ]
          },
          "execution_count": 160,
          "metadata": {},
          "output_type": "execute_result"
        }
      ]
    },
    {
      "cell_type": "code",
      "metadata": {
        "id": "j_SnOf25RbXO",
        "outputId": "341ab4c9-17b0-43ab-963d-a2ab43e981b6"
      },
      "source": [
        "events18.user_id.nunique()"
      ],
      "execution_count": null,
      "outputs": [
        {
          "data": {
            "text/plain": [
              "19926"
            ]
          },
          "execution_count": 161,
          "metadata": {},
          "output_type": "execute_result"
        }
      ]
    },
    {
      "cell_type": "code",
      "metadata": {
        "id": "TELRlF2ERbXP",
        "outputId": "b3bcf059-dbf4-4984-e64a-155e6726b8b6"
      },
      "source": [
        "# Работаем с датасетом, включающим данные об оплатах, которые совершают пользователи.\n",
        "purch18 = purch[purch.user_id.isin(registered)]\n",
        "purch18.info()"
      ],
      "execution_count": null,
      "outputs": [
        {
          "name": "stdout",
          "output_type": "stream",
          "text": [
            "<class 'pandas.core.frame.DataFrame'>\n",
            "Int64Index: 1600 entries, 1171 to 2778\n",
            "Data columns (total 4 columns):\n",
            " #   Column          Non-Null Count  Dtype \n",
            "---  ------          --------------  ----- \n",
            " 0   id              1600 non-null   int64 \n",
            " 1   user_id         1600 non-null   int64 \n",
            " 2   event_datetime  1600 non-null   object\n",
            " 3   amount          1600 non-null   int64 \n",
            "dtypes: int64(3), object(1)\n",
            "memory usage: 62.5+ KB\n"
          ]
        }
      ]
    },
    {
      "cell_type": "code",
      "metadata": {
        "id": "GlCOseJURbXQ",
        "outputId": "62dc536b-9c08-4756-9c80-8d6f6de2cc7a"
      },
      "source": [
        "purch18.describe()"
      ],
      "execution_count": null,
      "outputs": [
        {
          "data": {
            "text/html": [
              "<div>\n",
              "<style scoped>\n",
              "    .dataframe tbody tr th:only-of-type {\n",
              "        vertical-align: middle;\n",
              "    }\n",
              "\n",
              "    .dataframe tbody tr th {\n",
              "        vertical-align: top;\n",
              "    }\n",
              "\n",
              "    .dataframe thead th {\n",
              "        text-align: right;\n",
              "    }\n",
              "</style>\n",
              "<table border=\"1\" class=\"dataframe\">\n",
              "  <thead>\n",
              "    <tr style=\"text-align: right;\">\n",
              "      <th></th>\n",
              "      <th>id</th>\n",
              "      <th>user_id</th>\n",
              "      <th>amount</th>\n",
              "    </tr>\n",
              "  </thead>\n",
              "  <tbody>\n",
              "    <tr>\n",
              "      <th>count</th>\n",
              "      <td>1600.000000</td>\n",
              "      <td>1600.000000</td>\n",
              "      <td>1600.000000</td>\n",
              "    </tr>\n",
              "    <tr>\n",
              "      <th>mean</th>\n",
              "      <td>17645.505625</td>\n",
              "      <td>37752.766250</td>\n",
              "      <td>110.734375</td>\n",
              "    </tr>\n",
              "    <tr>\n",
              "      <th>std</th>\n",
              "      <td>462.038637</td>\n",
              "      <td>5822.621784</td>\n",
              "      <td>54.696628</td>\n",
              "    </tr>\n",
              "    <tr>\n",
              "      <th>min</th>\n",
              "      <td>16845.000000</td>\n",
              "      <td>27845.000000</td>\n",
              "      <td>25.000000</td>\n",
              "    </tr>\n",
              "    <tr>\n",
              "      <th>25%</th>\n",
              "      <td>17245.750000</td>\n",
              "      <td>32815.750000</td>\n",
              "      <td>50.000000</td>\n",
              "    </tr>\n",
              "    <tr>\n",
              "      <th>50%</th>\n",
              "      <td>17645.500000</td>\n",
              "      <td>37633.500000</td>\n",
              "      <td>100.000000</td>\n",
              "    </tr>\n",
              "    <tr>\n",
              "      <th>75%</th>\n",
              "      <td>18045.250000</td>\n",
              "      <td>43023.000000</td>\n",
              "      <td>150.000000</td>\n",
              "    </tr>\n",
              "    <tr>\n",
              "      <th>max</th>\n",
              "      <td>18452.000000</td>\n",
              "      <td>47742.000000</td>\n",
              "      <td>300.000000</td>\n",
              "    </tr>\n",
              "  </tbody>\n",
              "</table>\n",
              "</div>"
            ],
            "text/plain": [
              "                 id       user_id       amount\n",
              "count   1600.000000   1600.000000  1600.000000\n",
              "mean   17645.505625  37752.766250   110.734375\n",
              "std      462.038637   5822.621784    54.696628\n",
              "min    16845.000000  27845.000000    25.000000\n",
              "25%    17245.750000  32815.750000    50.000000\n",
              "50%    17645.500000  37633.500000   100.000000\n",
              "75%    18045.250000  43023.000000   150.000000\n",
              "max    18452.000000  47742.000000   300.000000"
            ]
          },
          "execution_count": 163,
          "metadata": {},
          "output_type": "execute_result"
        }
      ]
    },
    {
      "cell_type": "markdown",
      "metadata": {
        "id": "-Oufrp-IRbXQ"
      },
      "source": [
        "## Гипотеза №1\n",
        "### Время прохождения различных этапов для пользователей, которые прошли обучение, отличается от пользователей, не начинавших обучение."
      ]
    },
    {
      "cell_type": "code",
      "metadata": {
        "id": "xk6o4ebsRbXR"
      },
      "source": [
        "#Сделаем необходимые преобразования\n",
        "\n",
        "#Переименуем id в датафремах\n",
        "events18 = events18.rename(columns={'id':'event_id'})\n",
        "purch18 = purch18.rename(columns={'id':'purchase_id', 'event_datetime':'start_time'})\n",
        "\n",
        "#Добавим столбец\n",
        "purch18['event_type'] = 'purchase' "
      ],
      "execution_count": null,
      "outputs": []
    },
    {
      "cell_type": "code",
      "metadata": {
        "id": "d4dlqb7DRbXS"
      },
      "source": [
        "#Обединим два датафрема в один\n",
        "total_events = pd.concat([events18, purch18], sort = False)\n",
        "\n",
        "#Сброс индексов объединенного датафрейма и сортировка событий по времени (по возрастанию)\n",
        "total_events = total_events.reset_index(drop = True).sort_values('start_time')\n",
        "\n",
        "#Преобразование дат к нужному типу\n",
        "total_events.start_time = pd.to_datetime(total_events.start_time, format = '%Y-%m-%dT%H:%M:%S')"
      ],
      "execution_count": null,
      "outputs": []
    },
    {
      "cell_type": "code",
      "metadata": {
        "id": "8N9RNCQnRbXT",
        "outputId": "d6df511e-96da-4802-8b0d-c0c1ce7ff814"
      },
      "source": [
        "total_events.head(10)"
      ],
      "execution_count": null,
      "outputs": [
        {
          "data": {
            "text/html": [
              "<div>\n",
              "<style scoped>\n",
              "    .dataframe tbody tr th:only-of-type {\n",
              "        vertical-align: middle;\n",
              "    }\n",
              "\n",
              "    .dataframe tbody tr th {\n",
              "        vertical-align: top;\n",
              "    }\n",
              "\n",
              "    .dataframe thead th {\n",
              "        text-align: right;\n",
              "    }\n",
              "</style>\n",
              "<table border=\"1\" class=\"dataframe\">\n",
              "  <thead>\n",
              "    <tr style=\"text-align: right;\">\n",
              "      <th></th>\n",
              "      <th>event_id</th>\n",
              "      <th>event_type</th>\n",
              "      <th>selected_level</th>\n",
              "      <th>start_time</th>\n",
              "      <th>tutorial_id</th>\n",
              "      <th>user_id</th>\n",
              "      <th>purchase_id</th>\n",
              "      <th>amount</th>\n",
              "    </tr>\n",
              "  </thead>\n",
              "  <tbody>\n",
              "    <tr>\n",
              "      <th>0</th>\n",
              "      <td>80308.0</td>\n",
              "      <td>registration</td>\n",
              "      <td>NaN</td>\n",
              "      <td>2018-01-01 03:48:40</td>\n",
              "      <td>NaN</td>\n",
              "      <td>27832</td>\n",
              "      <td>NaN</td>\n",
              "      <td>NaN</td>\n",
              "    </tr>\n",
              "    <tr>\n",
              "      <th>1</th>\n",
              "      <td>80309.0</td>\n",
              "      <td>registration</td>\n",
              "      <td>NaN</td>\n",
              "      <td>2018-01-01 04:07:25</td>\n",
              "      <td>NaN</td>\n",
              "      <td>27833</td>\n",
              "      <td>NaN</td>\n",
              "      <td>NaN</td>\n",
              "    </tr>\n",
              "    <tr>\n",
              "      <th>2</th>\n",
              "      <td>80310.0</td>\n",
              "      <td>registration</td>\n",
              "      <td>NaN</td>\n",
              "      <td>2018-01-01 08:35:10</td>\n",
              "      <td>NaN</td>\n",
              "      <td>27834</td>\n",
              "      <td>NaN</td>\n",
              "      <td>NaN</td>\n",
              "    </tr>\n",
              "    <tr>\n",
              "      <th>3</th>\n",
              "      <td>80311.0</td>\n",
              "      <td>registration</td>\n",
              "      <td>NaN</td>\n",
              "      <td>2018-01-01 11:54:47</td>\n",
              "      <td>NaN</td>\n",
              "      <td>27835</td>\n",
              "      <td>NaN</td>\n",
              "      <td>NaN</td>\n",
              "    </tr>\n",
              "    <tr>\n",
              "      <th>4</th>\n",
              "      <td>80312.0</td>\n",
              "      <td>registration</td>\n",
              "      <td>NaN</td>\n",
              "      <td>2018-01-01 13:28:07</td>\n",
              "      <td>NaN</td>\n",
              "      <td>27836</td>\n",
              "      <td>NaN</td>\n",
              "      <td>NaN</td>\n",
              "    </tr>\n",
              "    <tr>\n",
              "      <th>5</th>\n",
              "      <td>80313.0</td>\n",
              "      <td>registration</td>\n",
              "      <td>NaN</td>\n",
              "      <td>2018-01-01 14:08:40</td>\n",
              "      <td>NaN</td>\n",
              "      <td>27837</td>\n",
              "      <td>NaN</td>\n",
              "      <td>NaN</td>\n",
              "    </tr>\n",
              "    <tr>\n",
              "      <th>6</th>\n",
              "      <td>80314.0</td>\n",
              "      <td>registration</td>\n",
              "      <td>NaN</td>\n",
              "      <td>2018-01-01 14:42:58</td>\n",
              "      <td>NaN</td>\n",
              "      <td>27838</td>\n",
              "      <td>NaN</td>\n",
              "      <td>NaN</td>\n",
              "    </tr>\n",
              "    <tr>\n",
              "      <th>7</th>\n",
              "      <td>80315.0</td>\n",
              "      <td>tutorial_start</td>\n",
              "      <td>NaN</td>\n",
              "      <td>2018-01-01 14:54:40</td>\n",
              "      <td>31505.0</td>\n",
              "      <td>27836</td>\n",
              "      <td>NaN</td>\n",
              "      <td>NaN</td>\n",
              "    </tr>\n",
              "    <tr>\n",
              "      <th>8</th>\n",
              "      <td>80316.0</td>\n",
              "      <td>tutorial_start</td>\n",
              "      <td>NaN</td>\n",
              "      <td>2018-01-01 15:00:51</td>\n",
              "      <td>31506.0</td>\n",
              "      <td>27835</td>\n",
              "      <td>NaN</td>\n",
              "      <td>NaN</td>\n",
              "    </tr>\n",
              "    <tr>\n",
              "      <th>9</th>\n",
              "      <td>80317.0</td>\n",
              "      <td>tutorial_finish</td>\n",
              "      <td>NaN</td>\n",
              "      <td>2018-01-01 15:06:15</td>\n",
              "      <td>31506.0</td>\n",
              "      <td>27835</td>\n",
              "      <td>NaN</td>\n",
              "      <td>NaN</td>\n",
              "    </tr>\n",
              "  </tbody>\n",
              "</table>\n",
              "</div>"
            ],
            "text/plain": [
              "   event_id       event_type selected_level          start_time  tutorial_id  \\\n",
              "0   80308.0     registration            NaN 2018-01-01 03:48:40          NaN   \n",
              "1   80309.0     registration            NaN 2018-01-01 04:07:25          NaN   \n",
              "2   80310.0     registration            NaN 2018-01-01 08:35:10          NaN   \n",
              "3   80311.0     registration            NaN 2018-01-01 11:54:47          NaN   \n",
              "4   80312.0     registration            NaN 2018-01-01 13:28:07          NaN   \n",
              "5   80313.0     registration            NaN 2018-01-01 14:08:40          NaN   \n",
              "6   80314.0     registration            NaN 2018-01-01 14:42:58          NaN   \n",
              "7   80315.0   tutorial_start            NaN 2018-01-01 14:54:40      31505.0   \n",
              "8   80316.0   tutorial_start            NaN 2018-01-01 15:00:51      31506.0   \n",
              "9   80317.0  tutorial_finish            NaN 2018-01-01 15:06:15      31506.0   \n",
              "\n",
              "   user_id  purchase_id  amount  \n",
              "0    27832          NaN     NaN  \n",
              "1    27833          NaN     NaN  \n",
              "2    27834          NaN     NaN  \n",
              "3    27835          NaN     NaN  \n",
              "4    27836          NaN     NaN  \n",
              "5    27837          NaN     NaN  \n",
              "6    27838          NaN     NaN  \n",
              "7    27836          NaN     NaN  \n",
              "8    27835          NaN     NaN  \n",
              "9    27835          NaN     NaN  "
            ]
          },
          "execution_count": 166,
          "metadata": {},
          "output_type": "execute_result"
        }
      ]
    },
    {
      "cell_type": "code",
      "metadata": {
        "id": "pcC-AeV5RbXU",
        "outputId": "a9ce604f-01c2-4789-fe5a-45ffdad9bf8a"
      },
      "source": [
        "#Создаем таблицу, в которой будет отражено время для каждого события пользователя.\n",
        "pivot = total_events.pivot_table(values = ['start_time'], index = ['user_id'], columns = ['event_type'], aggfunc = 'min')\n",
        "pivot.columns=list(map('_'.join,pivot))\n",
        "pivot = pivot.reset_index()\n",
        "pivot.head()"
      ],
      "execution_count": null,
      "outputs": [
        {
          "data": {
            "text/html": [
              "<div>\n",
              "<style scoped>\n",
              "    .dataframe tbody tr th:only-of-type {\n",
              "        vertical-align: middle;\n",
              "    }\n",
              "\n",
              "    .dataframe tbody tr th {\n",
              "        vertical-align: top;\n",
              "    }\n",
              "\n",
              "    .dataframe thead th {\n",
              "        text-align: right;\n",
              "    }\n",
              "</style>\n",
              "<table border=\"1\" class=\"dataframe\">\n",
              "  <thead>\n",
              "    <tr style=\"text-align: right;\">\n",
              "      <th></th>\n",
              "      <th>user_id</th>\n",
              "      <th>start_time_level_choice</th>\n",
              "      <th>start_time_pack_choice</th>\n",
              "      <th>start_time_purchase</th>\n",
              "      <th>start_time_registration</th>\n",
              "      <th>start_time_tutorial_finish</th>\n",
              "      <th>start_time_tutorial_start</th>\n",
              "    </tr>\n",
              "  </thead>\n",
              "  <tbody>\n",
              "    <tr>\n",
              "      <th>0</th>\n",
              "      <td>27832</td>\n",
              "      <td>NaT</td>\n",
              "      <td>NaT</td>\n",
              "      <td>NaT</td>\n",
              "      <td>2018-01-01 03:48:40</td>\n",
              "      <td>NaT</td>\n",
              "      <td>NaT</td>\n",
              "    </tr>\n",
              "    <tr>\n",
              "      <th>1</th>\n",
              "      <td>27833</td>\n",
              "      <td>NaT</td>\n",
              "      <td>NaT</td>\n",
              "      <td>NaT</td>\n",
              "      <td>2018-01-01 04:07:25</td>\n",
              "      <td>2018-01-01 17:50:08</td>\n",
              "      <td>2018-01-01 17:47:40</td>\n",
              "    </tr>\n",
              "    <tr>\n",
              "      <th>2</th>\n",
              "      <td>27834</td>\n",
              "      <td>NaT</td>\n",
              "      <td>NaT</td>\n",
              "      <td>NaT</td>\n",
              "      <td>2018-01-01 08:35:10</td>\n",
              "      <td>2018-01-01 19:48:01</td>\n",
              "      <td>2018-01-01 19:46:11</td>\n",
              "    </tr>\n",
              "    <tr>\n",
              "      <th>3</th>\n",
              "      <td>27835</td>\n",
              "      <td>2018-01-01 20:37:22</td>\n",
              "      <td>2018-01-01 20:38:43</td>\n",
              "      <td>NaT</td>\n",
              "      <td>2018-01-01 11:54:47</td>\n",
              "      <td>2018-01-01 15:06:15</td>\n",
              "      <td>2018-01-01 15:00:51</td>\n",
              "    </tr>\n",
              "    <tr>\n",
              "      <th>4</th>\n",
              "      <td>27836</td>\n",
              "      <td>NaT</td>\n",
              "      <td>NaT</td>\n",
              "      <td>NaT</td>\n",
              "      <td>2018-01-01 13:28:07</td>\n",
              "      <td>2018-01-01 15:42:58</td>\n",
              "      <td>2018-01-01 14:54:40</td>\n",
              "    </tr>\n",
              "  </tbody>\n",
              "</table>\n",
              "</div>"
            ],
            "text/plain": [
              "   user_id start_time_level_choice start_time_pack_choice start_time_purchase  \\\n",
              "0    27832                     NaT                    NaT                 NaT   \n",
              "1    27833                     NaT                    NaT                 NaT   \n",
              "2    27834                     NaT                    NaT                 NaT   \n",
              "3    27835     2018-01-01 20:37:22    2018-01-01 20:38:43                 NaT   \n",
              "4    27836                     NaT                    NaT                 NaT   \n",
              "\n",
              "  start_time_registration start_time_tutorial_finish start_time_tutorial_start  \n",
              "0     2018-01-01 03:48:40                        NaT                       NaT  \n",
              "1     2018-01-01 04:07:25        2018-01-01 17:50:08       2018-01-01 17:47:40  \n",
              "2     2018-01-01 08:35:10        2018-01-01 19:48:01       2018-01-01 19:46:11  \n",
              "3     2018-01-01 11:54:47        2018-01-01 15:06:15       2018-01-01 15:00:51  \n",
              "4     2018-01-01 13:28:07        2018-01-01 15:42:58       2018-01-01 14:54:40  "
            ]
          },
          "execution_count": 167,
          "metadata": {},
          "output_type": "execute_result"
        }
      ]
    },
    {
      "cell_type": "code",
      "metadata": {
        "id": "UOtuNQniRbXV"
      },
      "source": [
        "#Рассчитываем разницу между событиями \n",
        "pivot['timedelta_lvl_reg'] = pivot['start_time_level_choice'] - pivot['start_time_registration']\n",
        "pivot['timedelta_pack_reg'] = pivot['start_time_pack_choice'] - pivot['start_time_registration']\n",
        "pivot['timedelta_purch_reg'] = pivot['start_time_purchase'] - pivot['start_time_registration']\n",
        "pivot['timedelta_pack_lvl'] = pivot['start_time_pack_choice'] - pivot['start_time_level_choice']\n",
        "pivot['timedelta_purch_lvl'] = pivot['start_time_purchase'] - pivot['start_time_level_choice']\n",
        "pivot['timedelta_purch_pack'] = pivot['start_time_purchase'] - pivot['start_time_pack_choice']"
      ],
      "execution_count": null,
      "outputs": []
    },
    {
      "cell_type": "code",
      "metadata": {
        "id": "y8F6Kc0ORbXV",
        "outputId": "0d20d852-d14e-45bf-de43-692adcb5b125"
      },
      "source": [
        "pivot"
      ],
      "execution_count": null,
      "outputs": [
        {
          "data": {
            "text/html": [
              "<div>\n",
              "<style scoped>\n",
              "    .dataframe tbody tr th:only-of-type {\n",
              "        vertical-align: middle;\n",
              "    }\n",
              "\n",
              "    .dataframe tbody tr th {\n",
              "        vertical-align: top;\n",
              "    }\n",
              "\n",
              "    .dataframe thead th {\n",
              "        text-align: right;\n",
              "    }\n",
              "</style>\n",
              "<table border=\"1\" class=\"dataframe\">\n",
              "  <thead>\n",
              "    <tr style=\"text-align: right;\">\n",
              "      <th></th>\n",
              "      <th>user_id</th>\n",
              "      <th>start_time_level_choice</th>\n",
              "      <th>start_time_pack_choice</th>\n",
              "      <th>start_time_purchase</th>\n",
              "      <th>start_time_registration</th>\n",
              "      <th>start_time_tutorial_finish</th>\n",
              "      <th>start_time_tutorial_start</th>\n",
              "      <th>timedelta_lvl_reg</th>\n",
              "      <th>timedelta_pack_reg</th>\n",
              "      <th>timedelta_purch_reg</th>\n",
              "      <th>timedelta_pack_lvl</th>\n",
              "      <th>timedelta_purch_lvl</th>\n",
              "      <th>timedelta_purch_pack</th>\n",
              "    </tr>\n",
              "  </thead>\n",
              "  <tbody>\n",
              "    <tr>\n",
              "      <th>0</th>\n",
              "      <td>27832</td>\n",
              "      <td>NaT</td>\n",
              "      <td>NaT</td>\n",
              "      <td>NaT</td>\n",
              "      <td>2018-01-01 03:48:40</td>\n",
              "      <td>NaT</td>\n",
              "      <td>NaT</td>\n",
              "      <td>NaT</td>\n",
              "      <td>NaT</td>\n",
              "      <td>NaT</td>\n",
              "      <td>NaT</td>\n",
              "      <td>NaT</td>\n",
              "      <td>NaT</td>\n",
              "    </tr>\n",
              "    <tr>\n",
              "      <th>1</th>\n",
              "      <td>27833</td>\n",
              "      <td>NaT</td>\n",
              "      <td>NaT</td>\n",
              "      <td>NaT</td>\n",
              "      <td>2018-01-01 04:07:25</td>\n",
              "      <td>2018-01-01 17:50:08</td>\n",
              "      <td>2018-01-01 17:47:40</td>\n",
              "      <td>NaT</td>\n",
              "      <td>NaT</td>\n",
              "      <td>NaT</td>\n",
              "      <td>NaT</td>\n",
              "      <td>NaT</td>\n",
              "      <td>NaT</td>\n",
              "    </tr>\n",
              "    <tr>\n",
              "      <th>2</th>\n",
              "      <td>27834</td>\n",
              "      <td>NaT</td>\n",
              "      <td>NaT</td>\n",
              "      <td>NaT</td>\n",
              "      <td>2018-01-01 08:35:10</td>\n",
              "      <td>2018-01-01 19:48:01</td>\n",
              "      <td>2018-01-01 19:46:11</td>\n",
              "      <td>NaT</td>\n",
              "      <td>NaT</td>\n",
              "      <td>NaT</td>\n",
              "      <td>NaT</td>\n",
              "      <td>NaT</td>\n",
              "      <td>NaT</td>\n",
              "    </tr>\n",
              "    <tr>\n",
              "      <th>3</th>\n",
              "      <td>27835</td>\n",
              "      <td>2018-01-01 20:37:22</td>\n",
              "      <td>2018-01-01 20:38:43</td>\n",
              "      <td>NaT</td>\n",
              "      <td>2018-01-01 11:54:47</td>\n",
              "      <td>2018-01-01 15:06:15</td>\n",
              "      <td>2018-01-01 15:00:51</td>\n",
              "      <td>0 days 08:42:35</td>\n",
              "      <td>0 days 08:43:56</td>\n",
              "      <td>NaT</td>\n",
              "      <td>0 days 00:01:21</td>\n",
              "      <td>NaT</td>\n",
              "      <td>NaT</td>\n",
              "    </tr>\n",
              "    <tr>\n",
              "      <th>4</th>\n",
              "      <td>27836</td>\n",
              "      <td>NaT</td>\n",
              "      <td>NaT</td>\n",
              "      <td>NaT</td>\n",
              "      <td>2018-01-01 13:28:07</td>\n",
              "      <td>2018-01-01 15:42:58</td>\n",
              "      <td>2018-01-01 14:54:40</td>\n",
              "      <td>NaT</td>\n",
              "      <td>NaT</td>\n",
              "      <td>NaT</td>\n",
              "      <td>NaT</td>\n",
              "      <td>NaT</td>\n",
              "      <td>NaT</td>\n",
              "    </tr>\n",
              "    <tr>\n",
              "      <th>...</th>\n",
              "      <td>...</td>\n",
              "      <td>...</td>\n",
              "      <td>...</td>\n",
              "      <td>...</td>\n",
              "      <td>...</td>\n",
              "      <td>...</td>\n",
              "      <td>...</td>\n",
              "      <td>...</td>\n",
              "      <td>...</td>\n",
              "      <td>...</td>\n",
              "      <td>...</td>\n",
              "      <td>...</td>\n",
              "      <td>...</td>\n",
              "    </tr>\n",
              "    <tr>\n",
              "      <th>19921</th>\n",
              "      <td>47753</td>\n",
              "      <td>2018-12-31 22:36:19</td>\n",
              "      <td>2018-12-31 22:38:05</td>\n",
              "      <td>NaT</td>\n",
              "      <td>2018-12-31 18:58:55</td>\n",
              "      <td>2018-12-31 20:57:07</td>\n",
              "      <td>2018-12-31 20:54:56</td>\n",
              "      <td>0 days 03:37:24</td>\n",
              "      <td>0 days 03:39:10</td>\n",
              "      <td>NaT</td>\n",
              "      <td>0 days 00:01:46</td>\n",
              "      <td>NaT</td>\n",
              "      <td>NaT</td>\n",
              "    </tr>\n",
              "    <tr>\n",
              "      <th>19922</th>\n",
              "      <td>47754</td>\n",
              "      <td>NaT</td>\n",
              "      <td>NaT</td>\n",
              "      <td>NaT</td>\n",
              "      <td>2018-12-31 19:14:08</td>\n",
              "      <td>NaT</td>\n",
              "      <td>NaT</td>\n",
              "      <td>NaT</td>\n",
              "      <td>NaT</td>\n",
              "      <td>NaT</td>\n",
              "      <td>NaT</td>\n",
              "      <td>NaT</td>\n",
              "      <td>NaT</td>\n",
              "    </tr>\n",
              "    <tr>\n",
              "      <th>19923</th>\n",
              "      <td>47755</td>\n",
              "      <td>2019-01-01 05:04:52</td>\n",
              "      <td>NaT</td>\n",
              "      <td>NaT</td>\n",
              "      <td>2018-12-31 21:15:14</td>\n",
              "      <td>2019-01-01 00:09:30</td>\n",
              "      <td>2019-01-01 00:08:14</td>\n",
              "      <td>0 days 07:49:38</td>\n",
              "      <td>NaT</td>\n",
              "      <td>NaT</td>\n",
              "      <td>NaT</td>\n",
              "      <td>NaT</td>\n",
              "      <td>NaT</td>\n",
              "    </tr>\n",
              "    <tr>\n",
              "      <th>19924</th>\n",
              "      <td>47756</td>\n",
              "      <td>2019-01-01 05:42:11</td>\n",
              "      <td>2019-01-01 05:50:36</td>\n",
              "      <td>NaT</td>\n",
              "      <td>2018-12-31 23:17:30</td>\n",
              "      <td>2019-01-01 03:29:25</td>\n",
              "      <td>2019-01-01 03:26:18</td>\n",
              "      <td>0 days 06:24:41</td>\n",
              "      <td>0 days 06:33:06</td>\n",
              "      <td>NaT</td>\n",
              "      <td>0 days 00:08:25</td>\n",
              "      <td>NaT</td>\n",
              "      <td>NaT</td>\n",
              "    </tr>\n",
              "    <tr>\n",
              "      <th>19925</th>\n",
              "      <td>47757</td>\n",
              "      <td>NaT</td>\n",
              "      <td>NaT</td>\n",
              "      <td>NaT</td>\n",
              "      <td>2018-12-31 23:18:06</td>\n",
              "      <td>NaT</td>\n",
              "      <td>NaT</td>\n",
              "      <td>NaT</td>\n",
              "      <td>NaT</td>\n",
              "      <td>NaT</td>\n",
              "      <td>NaT</td>\n",
              "      <td>NaT</td>\n",
              "      <td>NaT</td>\n",
              "    </tr>\n",
              "  </tbody>\n",
              "</table>\n",
              "<p>19926 rows × 13 columns</p>\n",
              "</div>"
            ],
            "text/plain": [
              "       user_id start_time_level_choice start_time_pack_choice  \\\n",
              "0        27832                     NaT                    NaT   \n",
              "1        27833                     NaT                    NaT   \n",
              "2        27834                     NaT                    NaT   \n",
              "3        27835     2018-01-01 20:37:22    2018-01-01 20:38:43   \n",
              "4        27836                     NaT                    NaT   \n",
              "...        ...                     ...                    ...   \n",
              "19921    47753     2018-12-31 22:36:19    2018-12-31 22:38:05   \n",
              "19922    47754                     NaT                    NaT   \n",
              "19923    47755     2019-01-01 05:04:52                    NaT   \n",
              "19924    47756     2019-01-01 05:42:11    2019-01-01 05:50:36   \n",
              "19925    47757                     NaT                    NaT   \n",
              "\n",
              "      start_time_purchase start_time_registration start_time_tutorial_finish  \\\n",
              "0                     NaT     2018-01-01 03:48:40                        NaT   \n",
              "1                     NaT     2018-01-01 04:07:25        2018-01-01 17:50:08   \n",
              "2                     NaT     2018-01-01 08:35:10        2018-01-01 19:48:01   \n",
              "3                     NaT     2018-01-01 11:54:47        2018-01-01 15:06:15   \n",
              "4                     NaT     2018-01-01 13:28:07        2018-01-01 15:42:58   \n",
              "...                   ...                     ...                        ...   \n",
              "19921                 NaT     2018-12-31 18:58:55        2018-12-31 20:57:07   \n",
              "19922                 NaT     2018-12-31 19:14:08                        NaT   \n",
              "19923                 NaT     2018-12-31 21:15:14        2019-01-01 00:09:30   \n",
              "19924                 NaT     2018-12-31 23:17:30        2019-01-01 03:29:25   \n",
              "19925                 NaT     2018-12-31 23:18:06                        NaT   \n",
              "\n",
              "      start_time_tutorial_start timedelta_lvl_reg timedelta_pack_reg  \\\n",
              "0                           NaT               NaT                NaT   \n",
              "1           2018-01-01 17:47:40               NaT                NaT   \n",
              "2           2018-01-01 19:46:11               NaT                NaT   \n",
              "3           2018-01-01 15:00:51   0 days 08:42:35    0 days 08:43:56   \n",
              "4           2018-01-01 14:54:40               NaT                NaT   \n",
              "...                         ...               ...                ...   \n",
              "19921       2018-12-31 20:54:56   0 days 03:37:24    0 days 03:39:10   \n",
              "19922                       NaT               NaT                NaT   \n",
              "19923       2019-01-01 00:08:14   0 days 07:49:38                NaT   \n",
              "19924       2019-01-01 03:26:18   0 days 06:24:41    0 days 06:33:06   \n",
              "19925                       NaT               NaT                NaT   \n",
              "\n",
              "      timedelta_purch_reg timedelta_pack_lvl timedelta_purch_lvl  \\\n",
              "0                     NaT                NaT                 NaT   \n",
              "1                     NaT                NaT                 NaT   \n",
              "2                     NaT                NaT                 NaT   \n",
              "3                     NaT    0 days 00:01:21                 NaT   \n",
              "4                     NaT                NaT                 NaT   \n",
              "...                   ...                ...                 ...   \n",
              "19921                 NaT    0 days 00:01:46                 NaT   \n",
              "19922                 NaT                NaT                 NaT   \n",
              "19923                 NaT                NaT                 NaT   \n",
              "19924                 NaT    0 days 00:08:25                 NaT   \n",
              "19925                 NaT                NaT                 NaT   \n",
              "\n",
              "      timedelta_purch_pack  \n",
              "0                      NaT  \n",
              "1                      NaT  \n",
              "2                      NaT  \n",
              "3                      NaT  \n",
              "4                      NaT  \n",
              "...                    ...  \n",
              "19921                  NaT  \n",
              "19922                  NaT  \n",
              "19923                  NaT  \n",
              "19924                  NaT  \n",
              "19925                  NaT  \n",
              "\n",
              "[19926 rows x 13 columns]"
            ]
          },
          "execution_count": 169,
          "metadata": {},
          "output_type": "execute_result"
        }
      ]
    },
    {
      "cell_type": "markdown",
      "metadata": {
        "id": "7LYO_K9FRbXW"
      },
      "source": [
        "#### Теперь разделим пользователей на 2 группы:\n",
        "\n",
        "1. Пользователи, прошедшие обучение\n",
        "2. Пользователи, не начинавшие обучение"
      ]
    },
    {
      "cell_type": "code",
      "metadata": {
        "id": "d7QjNWqkRbXW"
      },
      "source": [
        "#Пользователи, прошедшие обучение\n",
        "tut_finished_users = events18[events18['event_type'] == 'tutorial_finish'].user_id.unique()\n",
        "\n",
        "#Пользователи, не начинавшие обучение\n",
        "tut_started_users = set(events[events['event_type'] == 'tutorial_start'].user_id)\n",
        "registered_users = set(events[events['event_type'] == 'registration'].user_id)\n",
        "tut_not_started_users = registered_users - tut_started_users"
      ],
      "execution_count": null,
      "outputs": []
    },
    {
      "cell_type": "code",
      "metadata": {
        "id": "ReAZp1LxRbXX"
      },
      "source": [
        "#Получим эти две группы пользователей из таблицы pivot\n",
        "tut_finished_group = pivot[pivot.user_id.isin(tut_finished_users)]\n",
        "tut_not_started_group = pivot[pivot.user_id.isin(tut_not_started_users)]"
      ],
      "execution_count": null,
      "outputs": []
    },
    {
      "cell_type": "code",
      "metadata": {
        "id": "LpiUJTJwRbXX",
        "outputId": "3da62b58-6a70-49b1-a384-4652bcfac762"
      },
      "source": [
        "tut_finished_group = tut_finished_group.reset_index(drop = True)\n",
        "tut_finished_group.head()"
      ],
      "execution_count": null,
      "outputs": [
        {
          "data": {
            "text/html": [
              "<div>\n",
              "<style scoped>\n",
              "    .dataframe tbody tr th:only-of-type {\n",
              "        vertical-align: middle;\n",
              "    }\n",
              "\n",
              "    .dataframe tbody tr th {\n",
              "        vertical-align: top;\n",
              "    }\n",
              "\n",
              "    .dataframe thead th {\n",
              "        text-align: right;\n",
              "    }\n",
              "</style>\n",
              "<table border=\"1\" class=\"dataframe\">\n",
              "  <thead>\n",
              "    <tr style=\"text-align: right;\">\n",
              "      <th></th>\n",
              "      <th>user_id</th>\n",
              "      <th>start_time_level_choice</th>\n",
              "      <th>start_time_pack_choice</th>\n",
              "      <th>start_time_purchase</th>\n",
              "      <th>start_time_registration</th>\n",
              "      <th>start_time_tutorial_finish</th>\n",
              "      <th>start_time_tutorial_start</th>\n",
              "      <th>timedelta_lvl_reg</th>\n",
              "      <th>timedelta_pack_reg</th>\n",
              "      <th>timedelta_purch_reg</th>\n",
              "      <th>timedelta_pack_lvl</th>\n",
              "      <th>timedelta_purch_lvl</th>\n",
              "      <th>timedelta_purch_pack</th>\n",
              "    </tr>\n",
              "  </thead>\n",
              "  <tbody>\n",
              "    <tr>\n",
              "      <th>0</th>\n",
              "      <td>27833</td>\n",
              "      <td>NaT</td>\n",
              "      <td>NaT</td>\n",
              "      <td>NaT</td>\n",
              "      <td>2018-01-01 04:07:25</td>\n",
              "      <td>2018-01-01 17:50:08</td>\n",
              "      <td>2018-01-01 17:47:40</td>\n",
              "      <td>NaT</td>\n",
              "      <td>NaT</td>\n",
              "      <td>NaT</td>\n",
              "      <td>NaT</td>\n",
              "      <td>NaT</td>\n",
              "      <td>NaT</td>\n",
              "    </tr>\n",
              "    <tr>\n",
              "      <th>1</th>\n",
              "      <td>27834</td>\n",
              "      <td>NaT</td>\n",
              "      <td>NaT</td>\n",
              "      <td>NaT</td>\n",
              "      <td>2018-01-01 08:35:10</td>\n",
              "      <td>2018-01-01 19:48:01</td>\n",
              "      <td>2018-01-01 19:46:11</td>\n",
              "      <td>NaT</td>\n",
              "      <td>NaT</td>\n",
              "      <td>NaT</td>\n",
              "      <td>NaT</td>\n",
              "      <td>NaT</td>\n",
              "      <td>NaT</td>\n",
              "    </tr>\n",
              "    <tr>\n",
              "      <th>2</th>\n",
              "      <td>27835</td>\n",
              "      <td>2018-01-01 20:37:22</td>\n",
              "      <td>2018-01-01 20:38:43</td>\n",
              "      <td>NaT</td>\n",
              "      <td>2018-01-01 11:54:47</td>\n",
              "      <td>2018-01-01 15:06:15</td>\n",
              "      <td>2018-01-01 15:00:51</td>\n",
              "      <td>0 days 08:42:35</td>\n",
              "      <td>0 days 08:43:56</td>\n",
              "      <td>NaT</td>\n",
              "      <td>0 days 00:01:21</td>\n",
              "      <td>NaT</td>\n",
              "      <td>NaT</td>\n",
              "    </tr>\n",
              "    <tr>\n",
              "      <th>3</th>\n",
              "      <td>27836</td>\n",
              "      <td>NaT</td>\n",
              "      <td>NaT</td>\n",
              "      <td>NaT</td>\n",
              "      <td>2018-01-01 13:28:07</td>\n",
              "      <td>2018-01-01 15:42:58</td>\n",
              "      <td>2018-01-01 14:54:40</td>\n",
              "      <td>NaT</td>\n",
              "      <td>NaT</td>\n",
              "      <td>NaT</td>\n",
              "      <td>NaT</td>\n",
              "      <td>NaT</td>\n",
              "      <td>NaT</td>\n",
              "    </tr>\n",
              "    <tr>\n",
              "      <th>4</th>\n",
              "      <td>27839</td>\n",
              "      <td>2018-01-01 22:37:50</td>\n",
              "      <td>2018-01-01 22:42:54</td>\n",
              "      <td>NaT</td>\n",
              "      <td>2018-01-01 18:24:01</td>\n",
              "      <td>2018-01-01 19:16:32</td>\n",
              "      <td>2018-01-01 19:11:36</td>\n",
              "      <td>0 days 04:13:49</td>\n",
              "      <td>0 days 04:18:53</td>\n",
              "      <td>NaT</td>\n",
              "      <td>0 days 00:05:04</td>\n",
              "      <td>NaT</td>\n",
              "      <td>NaT</td>\n",
              "    </tr>\n",
              "  </tbody>\n",
              "</table>\n",
              "</div>"
            ],
            "text/plain": [
              "   user_id start_time_level_choice start_time_pack_choice start_time_purchase  \\\n",
              "0    27833                     NaT                    NaT                 NaT   \n",
              "1    27834                     NaT                    NaT                 NaT   \n",
              "2    27835     2018-01-01 20:37:22    2018-01-01 20:38:43                 NaT   \n",
              "3    27836                     NaT                    NaT                 NaT   \n",
              "4    27839     2018-01-01 22:37:50    2018-01-01 22:42:54                 NaT   \n",
              "\n",
              "  start_time_registration start_time_tutorial_finish  \\\n",
              "0     2018-01-01 04:07:25        2018-01-01 17:50:08   \n",
              "1     2018-01-01 08:35:10        2018-01-01 19:48:01   \n",
              "2     2018-01-01 11:54:47        2018-01-01 15:06:15   \n",
              "3     2018-01-01 13:28:07        2018-01-01 15:42:58   \n",
              "4     2018-01-01 18:24:01        2018-01-01 19:16:32   \n",
              "\n",
              "  start_time_tutorial_start timedelta_lvl_reg timedelta_pack_reg  \\\n",
              "0       2018-01-01 17:47:40               NaT                NaT   \n",
              "1       2018-01-01 19:46:11               NaT                NaT   \n",
              "2       2018-01-01 15:00:51   0 days 08:42:35    0 days 08:43:56   \n",
              "3       2018-01-01 14:54:40               NaT                NaT   \n",
              "4       2018-01-01 19:11:36   0 days 04:13:49    0 days 04:18:53   \n",
              "\n",
              "  timedelta_purch_reg timedelta_pack_lvl timedelta_purch_lvl  \\\n",
              "0                 NaT                NaT                 NaT   \n",
              "1                 NaT                NaT                 NaT   \n",
              "2                 NaT    0 days 00:01:21                 NaT   \n",
              "3                 NaT                NaT                 NaT   \n",
              "4                 NaT    0 days 00:05:04                 NaT   \n",
              "\n",
              "  timedelta_purch_pack  \n",
              "0                  NaT  \n",
              "1                  NaT  \n",
              "2                  NaT  \n",
              "3                  NaT  \n",
              "4                  NaT  "
            ]
          },
          "execution_count": 172,
          "metadata": {},
          "output_type": "execute_result"
        }
      ]
    },
    {
      "cell_type": "code",
      "metadata": {
        "id": "D4LTK2znRbXX",
        "outputId": "b8a20c67-cf54-449b-c463-89b8c30ee683"
      },
      "source": [
        "tut_not_started_group = tut_not_started_group.reset_index(drop = True)\n",
        "tut_not_started_group.head()"
      ],
      "execution_count": null,
      "outputs": [
        {
          "data": {
            "text/html": [
              "<div>\n",
              "<style scoped>\n",
              "    .dataframe tbody tr th:only-of-type {\n",
              "        vertical-align: middle;\n",
              "    }\n",
              "\n",
              "    .dataframe tbody tr th {\n",
              "        vertical-align: top;\n",
              "    }\n",
              "\n",
              "    .dataframe thead th {\n",
              "        text-align: right;\n",
              "    }\n",
              "</style>\n",
              "<table border=\"1\" class=\"dataframe\">\n",
              "  <thead>\n",
              "    <tr style=\"text-align: right;\">\n",
              "      <th></th>\n",
              "      <th>user_id</th>\n",
              "      <th>start_time_level_choice</th>\n",
              "      <th>start_time_pack_choice</th>\n",
              "      <th>start_time_purchase</th>\n",
              "      <th>start_time_registration</th>\n",
              "      <th>start_time_tutorial_finish</th>\n",
              "      <th>start_time_tutorial_start</th>\n",
              "      <th>timedelta_lvl_reg</th>\n",
              "      <th>timedelta_pack_reg</th>\n",
              "      <th>timedelta_purch_reg</th>\n",
              "      <th>timedelta_pack_lvl</th>\n",
              "      <th>timedelta_purch_lvl</th>\n",
              "      <th>timedelta_purch_pack</th>\n",
              "    </tr>\n",
              "  </thead>\n",
              "  <tbody>\n",
              "    <tr>\n",
              "      <th>0</th>\n",
              "      <td>27832</td>\n",
              "      <td>NaT</td>\n",
              "      <td>NaT</td>\n",
              "      <td>NaT</td>\n",
              "      <td>2018-01-01 03:48:40</td>\n",
              "      <td>NaT</td>\n",
              "      <td>NaT</td>\n",
              "      <td>NaT</td>\n",
              "      <td>NaT</td>\n",
              "      <td>NaT</td>\n",
              "      <td>NaT</td>\n",
              "      <td>NaT</td>\n",
              "      <td>NaT</td>\n",
              "    </tr>\n",
              "    <tr>\n",
              "      <th>1</th>\n",
              "      <td>27837</td>\n",
              "      <td>NaT</td>\n",
              "      <td>NaT</td>\n",
              "      <td>NaT</td>\n",
              "      <td>2018-01-01 14:08:40</td>\n",
              "      <td>NaT</td>\n",
              "      <td>NaT</td>\n",
              "      <td>NaT</td>\n",
              "      <td>NaT</td>\n",
              "      <td>NaT</td>\n",
              "      <td>NaT</td>\n",
              "      <td>NaT</td>\n",
              "      <td>NaT</td>\n",
              "    </tr>\n",
              "    <tr>\n",
              "      <th>2</th>\n",
              "      <td>27838</td>\n",
              "      <td>NaT</td>\n",
              "      <td>NaT</td>\n",
              "      <td>NaT</td>\n",
              "      <td>2018-01-01 14:42:58</td>\n",
              "      <td>NaT</td>\n",
              "      <td>NaT</td>\n",
              "      <td>NaT</td>\n",
              "      <td>NaT</td>\n",
              "      <td>NaT</td>\n",
              "      <td>NaT</td>\n",
              "      <td>NaT</td>\n",
              "      <td>NaT</td>\n",
              "    </tr>\n",
              "    <tr>\n",
              "      <th>3</th>\n",
              "      <td>27844</td>\n",
              "      <td>NaT</td>\n",
              "      <td>NaT</td>\n",
              "      <td>NaT</td>\n",
              "      <td>2018-01-02 00:13:22</td>\n",
              "      <td>NaT</td>\n",
              "      <td>NaT</td>\n",
              "      <td>NaT</td>\n",
              "      <td>NaT</td>\n",
              "      <td>NaT</td>\n",
              "      <td>NaT</td>\n",
              "      <td>NaT</td>\n",
              "      <td>NaT</td>\n",
              "    </tr>\n",
              "    <tr>\n",
              "      <th>4</th>\n",
              "      <td>27848</td>\n",
              "      <td>NaT</td>\n",
              "      <td>NaT</td>\n",
              "      <td>NaT</td>\n",
              "      <td>2018-01-02 06:05:02</td>\n",
              "      <td>NaT</td>\n",
              "      <td>NaT</td>\n",
              "      <td>NaT</td>\n",
              "      <td>NaT</td>\n",
              "      <td>NaT</td>\n",
              "      <td>NaT</td>\n",
              "      <td>NaT</td>\n",
              "      <td>NaT</td>\n",
              "    </tr>\n",
              "  </tbody>\n",
              "</table>\n",
              "</div>"
            ],
            "text/plain": [
              "   user_id start_time_level_choice start_time_pack_choice start_time_purchase  \\\n",
              "0    27832                     NaT                    NaT                 NaT   \n",
              "1    27837                     NaT                    NaT                 NaT   \n",
              "2    27838                     NaT                    NaT                 NaT   \n",
              "3    27844                     NaT                    NaT                 NaT   \n",
              "4    27848                     NaT                    NaT                 NaT   \n",
              "\n",
              "  start_time_registration start_time_tutorial_finish  \\\n",
              "0     2018-01-01 03:48:40                        NaT   \n",
              "1     2018-01-01 14:08:40                        NaT   \n",
              "2     2018-01-01 14:42:58                        NaT   \n",
              "3     2018-01-02 00:13:22                        NaT   \n",
              "4     2018-01-02 06:05:02                        NaT   \n",
              "\n",
              "  start_time_tutorial_start timedelta_lvl_reg timedelta_pack_reg  \\\n",
              "0                       NaT               NaT                NaT   \n",
              "1                       NaT               NaT                NaT   \n",
              "2                       NaT               NaT                NaT   \n",
              "3                       NaT               NaT                NaT   \n",
              "4                       NaT               NaT                NaT   \n",
              "\n",
              "  timedelta_purch_reg timedelta_pack_lvl timedelta_purch_lvl  \\\n",
              "0                 NaT                NaT                 NaT   \n",
              "1                 NaT                NaT                 NaT   \n",
              "2                 NaT                NaT                 NaT   \n",
              "3                 NaT                NaT                 NaT   \n",
              "4                 NaT                NaT                 NaT   \n",
              "\n",
              "  timedelta_purch_pack  \n",
              "0                  NaT  \n",
              "1                  NaT  \n",
              "2                  NaT  \n",
              "3                  NaT  \n",
              "4                  NaT  "
            ]
          },
          "execution_count": 173,
          "metadata": {},
          "output_type": "execute_result"
        }
      ]
    },
    {
      "cell_type": "markdown",
      "metadata": {
        "id": "b6EBwptWRbXY"
      },
      "source": [
        "## Визуализация для гипотезы №1"
      ]
    },
    {
      "cell_type": "code",
      "metadata": {
        "id": "LFqFaa4-RbXY"
      },
      "source": [
        "#Импортируем необходимые библиотеки для визуализации\n",
        "import matplotlib.pyplot as plt\n",
        "import seaborn as sns\n",
        "%matplotlib inline\n",
        "import plotly.express as px\n",
        "import warnings; warnings.simplefilter('ignore')"
      ],
      "execution_count": null,
      "outputs": []
    },
    {
      "cell_type": "code",
      "metadata": {
        "id": "uiL4xzFsRbXZ"
      },
      "source": [
        "#Вытаскиваем средние значения\n",
        "desc1 = tut_not_started_group.describe()\n",
        "mean1 = desc1[desc1.index == 'mean']\n",
        "mean1.drop('user_id',axis=1, inplace=True)\n",
        "mean1 = mean1.transpose()"
      ],
      "execution_count": null,
      "outputs": []
    },
    {
      "cell_type": "code",
      "metadata": {
        "id": "XKd909Q6RbXZ"
      },
      "source": [
        "#Вычисляем кол-во часов\n",
        "mean1['mean_float_1'] = mean1['mean'] / pd.Timedelta('1 hour')"
      ],
      "execution_count": null,
      "outputs": []
    },
    {
      "cell_type": "code",
      "metadata": {
        "id": "nH0uUi1BRbXZ",
        "outputId": "79304f22-2569-4fb8-c7bd-4f33619aa801"
      },
      "source": [
        "#Транспонируем и добавляем столбец с названием группы (не начинавших обучение)\n",
        "mean1 = mean1.transpose()\n",
        "mean1['Group'] = 'Tutorial not started group' \n",
        "mean1"
      ],
      "execution_count": null,
      "outputs": [
        {
          "data": {
            "text/html": [
              "<div>\n",
              "<style scoped>\n",
              "    .dataframe tbody tr th:only-of-type {\n",
              "        vertical-align: middle;\n",
              "    }\n",
              "\n",
              "    .dataframe tbody tr th {\n",
              "        vertical-align: top;\n",
              "    }\n",
              "\n",
              "    .dataframe thead th {\n",
              "        text-align: right;\n",
              "    }\n",
              "</style>\n",
              "<table border=\"1\" class=\"dataframe\">\n",
              "  <thead>\n",
              "    <tr style=\"text-align: right;\">\n",
              "      <th></th>\n",
              "      <th>timedelta_lvl_reg</th>\n",
              "      <th>timedelta_pack_reg</th>\n",
              "      <th>timedelta_purch_reg</th>\n",
              "      <th>timedelta_pack_lvl</th>\n",
              "      <th>timedelta_purch_lvl</th>\n",
              "      <th>timedelta_purch_pack</th>\n",
              "      <th>Group</th>\n",
              "    </tr>\n",
              "  </thead>\n",
              "  <tbody>\n",
              "    <tr>\n",
              "      <th>mean</th>\n",
              "      <td>0 days 05:15:33.122448979</td>\n",
              "      <td>0 days 05:07:16.175675675</td>\n",
              "      <td>4 days 09:06:01.909090909</td>\n",
              "      <td>0 days 00:05:23.824324324</td>\n",
              "      <td>4 days 04:54:56.272727272</td>\n",
              "      <td>4 days 04:49:33.590909090</td>\n",
              "      <td>Tutorial not started group</td>\n",
              "    </tr>\n",
              "    <tr>\n",
              "      <th>mean_float_1</th>\n",
              "      <td>5.2592</td>\n",
              "      <td>5.12116</td>\n",
              "      <td>105.101</td>\n",
              "      <td>0.0899512</td>\n",
              "      <td>100.916</td>\n",
              "      <td>100.826</td>\n",
              "      <td>Tutorial not started group</td>\n",
              "    </tr>\n",
              "  </tbody>\n",
              "</table>\n",
              "</div>"
            ],
            "text/plain": [
              "                      timedelta_lvl_reg         timedelta_pack_reg  \\\n",
              "mean          0 days 05:15:33.122448979  0 days 05:07:16.175675675   \n",
              "mean_float_1                     5.2592                    5.12116   \n",
              "\n",
              "                    timedelta_purch_reg         timedelta_pack_lvl  \\\n",
              "mean          4 days 09:06:01.909090909  0 days 00:05:23.824324324   \n",
              "mean_float_1                    105.101                  0.0899512   \n",
              "\n",
              "                    timedelta_purch_lvl       timedelta_purch_pack  \\\n",
              "mean          4 days 04:54:56.272727272  4 days 04:49:33.590909090   \n",
              "mean_float_1                    100.916                    100.826   \n",
              "\n",
              "                                   Group  \n",
              "mean          Tutorial not started group  \n",
              "mean_float_1  Tutorial not started group  "
            ]
          },
          "execution_count": 177,
          "metadata": {},
          "output_type": "execute_result"
        }
      ]
    },
    {
      "cell_type": "code",
      "metadata": {
        "id": "CclA1SzdRbXa",
        "outputId": "5cc15ce5-2246-4fd1-ea8a-e9783fe5a7c6"
      },
      "source": [
        "#То же самое для группы, окончивших обучение\n",
        "desc2 = tut_finished_group.describe()\n",
        "mean2 = desc2[desc2.index == 'mean']\n",
        "mean2.drop('user_id',axis=1, inplace=True)\n",
        "mean2 = mean2.transpose()\n",
        "mean2['mean_float_2'] = mean2['mean'] / pd.Timedelta('1 hour')\n",
        "mean2 = mean2.transpose()\n",
        "mean2['Group'] = 'Finished tutorial group' \n",
        "mean2"
      ],
      "execution_count": null,
      "outputs": [
        {
          "data": {
            "text/html": [
              "<div>\n",
              "<style scoped>\n",
              "    .dataframe tbody tr th:only-of-type {\n",
              "        vertical-align: middle;\n",
              "    }\n",
              "\n",
              "    .dataframe tbody tr th {\n",
              "        vertical-align: top;\n",
              "    }\n",
              "\n",
              "    .dataframe thead th {\n",
              "        text-align: right;\n",
              "    }\n",
              "</style>\n",
              "<table border=\"1\" class=\"dataframe\">\n",
              "  <thead>\n",
              "    <tr style=\"text-align: right;\">\n",
              "      <th></th>\n",
              "      <th>timedelta_lvl_reg</th>\n",
              "      <th>timedelta_pack_reg</th>\n",
              "      <th>timedelta_purch_reg</th>\n",
              "      <th>timedelta_pack_lvl</th>\n",
              "      <th>timedelta_purch_lvl</th>\n",
              "      <th>timedelta_purch_pack</th>\n",
              "      <th>Group</th>\n",
              "    </tr>\n",
              "  </thead>\n",
              "  <tbody>\n",
              "    <tr>\n",
              "      <th>mean</th>\n",
              "      <td>0 days 07:05:36.854819357</td>\n",
              "      <td>0 days 07:10:35.660162287</td>\n",
              "      <td>4 days 00:30:03.247408431</td>\n",
              "      <td>0 days 00:05:18.146058732</td>\n",
              "      <td>3 days 17:23:24.954388389</td>\n",
              "      <td>3 days 17:17:59.641326883</td>\n",
              "      <td>Finished tutorial group</td>\n",
              "    </tr>\n",
              "    <tr>\n",
              "      <th>mean_float_2</th>\n",
              "      <td>7.09357</td>\n",
              "      <td>7.17657</td>\n",
              "      <td>96.5009</td>\n",
              "      <td>0.0883739</td>\n",
              "      <td>89.3903</td>\n",
              "      <td>89.2999</td>\n",
              "      <td>Finished tutorial group</td>\n",
              "    </tr>\n",
              "  </tbody>\n",
              "</table>\n",
              "</div>"
            ],
            "text/plain": [
              "                      timedelta_lvl_reg         timedelta_pack_reg  \\\n",
              "mean          0 days 07:05:36.854819357  0 days 07:10:35.660162287   \n",
              "mean_float_2                    7.09357                    7.17657   \n",
              "\n",
              "                    timedelta_purch_reg         timedelta_pack_lvl  \\\n",
              "mean          4 days 00:30:03.247408431  0 days 00:05:18.146058732   \n",
              "mean_float_2                    96.5009                  0.0883739   \n",
              "\n",
              "                    timedelta_purch_lvl       timedelta_purch_pack  \\\n",
              "mean          3 days 17:23:24.954388389  3 days 17:17:59.641326883   \n",
              "mean_float_2                    89.3903                    89.2999   \n",
              "\n",
              "                                Group  \n",
              "mean          Finished tutorial group  \n",
              "mean_float_2  Finished tutorial group  "
            ]
          },
          "execution_count": 178,
          "metadata": {},
          "output_type": "execute_result"
        }
      ]
    },
    {
      "cell_type": "code",
      "metadata": {
        "id": "tz4cV1XZRbXa",
        "outputId": "0b6ef58e-2149-4fd2-e117-58a12d29f922"
      },
      "source": [
        "#Соединяем две таблицы средних и оставляем только округленные часы\n",
        "means = pd.concat([mean1, mean2])\n",
        "means = means.transpose()\n",
        "means = means[['mean_float_1', 'mean_float_2']]\n",
        "means = means.transpose()\n",
        "means"
      ],
      "execution_count": null,
      "outputs": [
        {
          "data": {
            "text/html": [
              "<div>\n",
              "<style scoped>\n",
              "    .dataframe tbody tr th:only-of-type {\n",
              "        vertical-align: middle;\n",
              "    }\n",
              "\n",
              "    .dataframe tbody tr th {\n",
              "        vertical-align: top;\n",
              "    }\n",
              "\n",
              "    .dataframe thead th {\n",
              "        text-align: right;\n",
              "    }\n",
              "</style>\n",
              "<table border=\"1\" class=\"dataframe\">\n",
              "  <thead>\n",
              "    <tr style=\"text-align: right;\">\n",
              "      <th></th>\n",
              "      <th>timedelta_lvl_reg</th>\n",
              "      <th>timedelta_pack_reg</th>\n",
              "      <th>timedelta_purch_reg</th>\n",
              "      <th>timedelta_pack_lvl</th>\n",
              "      <th>timedelta_purch_lvl</th>\n",
              "      <th>timedelta_purch_pack</th>\n",
              "      <th>Group</th>\n",
              "    </tr>\n",
              "  </thead>\n",
              "  <tbody>\n",
              "    <tr>\n",
              "      <th>mean_float_1</th>\n",
              "      <td>5.2592</td>\n",
              "      <td>5.12116</td>\n",
              "      <td>105.101</td>\n",
              "      <td>0.0899512</td>\n",
              "      <td>100.916</td>\n",
              "      <td>100.826</td>\n",
              "      <td>Tutorial not started group</td>\n",
              "    </tr>\n",
              "    <tr>\n",
              "      <th>mean_float_2</th>\n",
              "      <td>7.09357</td>\n",
              "      <td>7.17657</td>\n",
              "      <td>96.5009</td>\n",
              "      <td>0.0883739</td>\n",
              "      <td>89.3903</td>\n",
              "      <td>89.2999</td>\n",
              "      <td>Finished tutorial group</td>\n",
              "    </tr>\n",
              "  </tbody>\n",
              "</table>\n",
              "</div>"
            ],
            "text/plain": [
              "             timedelta_lvl_reg timedelta_pack_reg timedelta_purch_reg  \\\n",
              "mean_float_1            5.2592            5.12116             105.101   \n",
              "mean_float_2           7.09357            7.17657             96.5009   \n",
              "\n",
              "             timedelta_pack_lvl timedelta_purch_lvl timedelta_purch_pack  \\\n",
              "mean_float_1          0.0899512             100.916              100.826   \n",
              "mean_float_2          0.0883739             89.3903              89.2999   \n",
              "\n",
              "                                   Group  \n",
              "mean_float_1  Tutorial not started group  \n",
              "mean_float_2     Finished tutorial group  "
            ]
          },
          "execution_count": 179,
          "metadata": {},
          "output_type": "execute_result"
        }
      ]
    },
    {
      "cell_type": "markdown",
      "metadata": {
        "id": "t1BdG4oeRbXb"
      },
      "source": [
        "Разница во времени между **регистрацией и выбором уровня** для 2-ух групп"
      ]
    },
    {
      "cell_type": "code",
      "metadata": {
        "id": "scHrUWwiRbXb",
        "outputId": "5b832c10-2a71-4baa-d563-c67d50d4ba19"
      },
      "source": [
        "sns.barplot(x = 'Group', y = 'timedelta_lvl_reg', data = means)"
      ],
      "execution_count": null,
      "outputs": [
        {
          "data": {
            "text/plain": [
              "<AxesSubplot:xlabel='Group', ylabel='timedelta_lvl_reg'>"
            ]
          },
          "execution_count": 180,
          "metadata": {},
          "output_type": "execute_result"
        },
        {
          "data": {
            "image/png": "[encoded data removed]",
            "text/plain": [
              "<Figure size 432x288 with 1 Axes>"
            ]
          },
          "metadata": {
            "needs_background": "light"
          },
          "output_type": "display_data"
        }
      ]
    },
    {
      "cell_type": "markdown",
      "metadata": {
        "id": "nB1Z5ytFRbXc"
      },
      "source": [
        "Разница во времени между **регистрацией и выбором пакетов игры** для 2-ух групп"
      ]
    },
    {
      "cell_type": "code",
      "metadata": {
        "id": "G_I2Ai6kRbXc",
        "outputId": "4a31cdc6-260d-4320-dc6c-5f4d3e55eb63"
      },
      "source": [
        "sns.barplot(x = 'Group', y = 'timedelta_pack_reg', data = means)"
      ],
      "execution_count": null,
      "outputs": [
        {
          "data": {
            "text/plain": [
              "<AxesSubplot:xlabel='Group', ylabel='timedelta_pack_reg'>"
            ]
          },
          "execution_count": 181,
          "metadata": {},
          "output_type": "execute_result"
        },
        {
          "data": {
            "image/png": "[encoded data removed]",
            "text/plain": [
              "<Figure size 432x288 with 1 Axes>"
            ]
          },
          "metadata": {
            "needs_background": "light"
          },
          "output_type": "display_data"
        }
      ]
    },
    {
      "cell_type": "markdown",
      "metadata": {
        "id": "Esp05m8NRbXd"
      },
      "source": [
        "Разница во времени между **выбором уровня и выбором пакетов игры** для 2-ух групп"
      ]
    },
    {
      "cell_type": "code",
      "metadata": {
        "id": "r41jbyfgRbXd",
        "outputId": "25598353-25a0-4b63-84cd-f98bb030f8f5"
      },
      "source": [
        "sns.barplot(x = 'Group', y = 'timedelta_pack_lvl', data = means)"
      ],
      "execution_count": null,
      "outputs": [
        {
          "data": {
            "text/plain": [
              "<AxesSubplot:xlabel='Group', ylabel='timedelta_pack_lvl'>"
            ]
          },
          "execution_count": 182,
          "metadata": {},
          "output_type": "execute_result"
        },
        {
          "data": {
            "image/png": "[encoded data removed]",
            "text/plain": [
              "<Figure size 432x288 with 1 Axes>"
            ]
          },
          "metadata": {
            "needs_background": "light"
          },
          "output_type": "display_data"
        }
      ]
    },
    {
      "cell_type": "markdown",
      "metadata": {
        "id": "p8f4CkI3RbXe"
      },
      "source": [
        "Разница во времени между **регистрацией и покупкой** для 2-ух групп"
      ]
    },
    {
      "cell_type": "code",
      "metadata": {
        "id": "uuKBUnPVRbXe",
        "outputId": "0167874d-3518-46fc-f893-4825ca415593"
      },
      "source": [
        "sns.barplot(x = 'Group', y = 'timedelta_purch_reg', data = means)"
      ],
      "execution_count": null,
      "outputs": [
        {
          "data": {
            "text/plain": [
              "<AxesSubplot:xlabel='Group', ylabel='timedelta_purch_reg'>"
            ]
          },
          "execution_count": 183,
          "metadata": {},
          "output_type": "execute_result"
        },
        {
          "data": {
            "image/png": "[encoded data removed]",
            "text/plain": [
              "<Figure size 432x288 with 1 Axes>"
            ]
          },
          "metadata": {
            "needs_background": "light"
          },
          "output_type": "display_data"
        }
      ]
    },
    {
      "cell_type": "markdown",
      "metadata": {
        "id": "t5A-UqVrRbXe"
      },
      "source": [
        "Разница во времени между **выбором уровня и покупкой** для 2-ух групп"
      ]
    },
    {
      "cell_type": "code",
      "metadata": {
        "id": "UhSki1dzRbXf",
        "outputId": "8a07c656-266a-44a6-e791-38203d9ff857"
      },
      "source": [
        "sns.barplot(x = 'Group', y = 'timedelta_purch_lvl', data = means)"
      ],
      "execution_count": null,
      "outputs": [
        {
          "data": {
            "text/plain": [
              "<AxesSubplot:xlabel='Group', ylabel='timedelta_purch_lvl'>"
            ]
          },
          "execution_count": 184,
          "metadata": {},
          "output_type": "execute_result"
        },
        {
          "data": {
            "image/png": "[encoded data removed]",
            "text/plain": [
              "<Figure size 432x288 with 1 Axes>"
            ]
          },
          "metadata": {
            "needs_background": "light"
          },
          "output_type": "display_data"
        }
      ]
    },
    {
      "cell_type": "markdown",
      "metadata": {
        "id": "dCkCX770RbXf"
      },
      "source": [
        "Разница во времени между **выбором пакетов игры и покупкой** для 2-ух групп"
      ]
    },
    {
      "cell_type": "code",
      "metadata": {
        "id": "bKsydFOARbXg",
        "outputId": "fed61b30-c5a2-435a-9046-d330771ca60c"
      },
      "source": [
        "sns.barplot(x = 'Group', y = 'timedelta_purch_pack', data = means)"
      ],
      "execution_count": null,
      "outputs": [
        {
          "data": {
            "text/plain": [
              "<AxesSubplot:xlabel='Group', ylabel='timedelta_purch_pack'>"
            ]
          },
          "execution_count": 185,
          "metadata": {},
          "output_type": "execute_result"
        },
        {
          "data": {
            "image/png": "[encoded data removed]",
            "text/plain": [
              "<Figure size 432x288 with 1 Axes>"
            ]
          },
          "metadata": {
            "needs_background": "light"
          },
          "output_type": "display_data"
        }
      ]
    },
    {
      "cell_type": "markdown",
      "metadata": {
        "id": "rueMICYVRbXg"
      },
      "source": [
        "## Выводы по гипотезе №1\n",
        "### Гипотеза №1 подтвердилась. Время прохождения различных этапов для разных групп отличается.\n",
        "\n",
        "#### Разница во времени больше у группы пользователей, которые прошли, если это касается разницы между регистрацией и выбором уровня и регистрации и выбором пакетов игры. \n",
        "\n",
        "#### Разница во времени между выбором уровня и выбором пакетов у обеих групп примерно одинаковая. \n",
        "\n",
        "#### Однако картина меняется относительно этапа покупки: разницы во времени, касающиеся этого этапа, больше у группы пользователей, которые не начинали обучение."
      ]
    },
    {
      "cell_type": "markdown",
      "metadata": {
        "id": "xp0GI2RdRbXg"
      },
      "source": [
        "## Гипотеза №2\n",
        "\n",
        "### Успешное обучение влияет на оплату (без разницы, каким этапом оно шло)."
      ]
    },
    {
      "cell_type": "code",
      "metadata": {
        "id": "1QmSMgO0RbXh"
      },
      "source": [
        "#создаем датафреймы, когда пользователь начал обучение и совершил покупку\n",
        "df_users_cnt_tutorial_st = total_events.groupby(['user_id'])['event_type'].apply(lambda x: (x=='tutorial_start').sum()).reset_index()\n",
        "df_users_cnt_tutorial_fin = total_events.groupby(['user_id'])['event_type'].apply(lambda x: (x=='tutorial_finish').sum()).reset_index()\n",
        "df_users_cnt_purch = total_events.groupby(['user_id'])['event_type'].apply(lambda x: (x=='purchase').sum()).reset_index()"
      ],
      "execution_count": null,
      "outputs": []
    },
    {
      "cell_type": "code",
      "metadata": {
        "id": "uS6LZ8kaRbXh",
        "outputId": "7d6af97a-757a-47f4-e446-83ad86b93789"
      },
      "source": [
        "#объединяем датафреймы\n",
        "df_users_merged_1 = df_users_cnt_tutorial_st.merge(df_users_cnt_tutorial_fin, on = 'user_id',how='left')\n",
        "df_users_tutorial_purch_merged = df_users_merged_1.merge(df_users_cnt_purch, on = 'user_id', how = 'left')\n",
        "df_users_tutorial_purch_merged"
      ],
      "execution_count": null,
      "outputs": [
        {
          "data": {
            "text/html": [
              "<div>\n",
              "<style scoped>\n",
              "    .dataframe tbody tr th:only-of-type {\n",
              "        vertical-align: middle;\n",
              "    }\n",
              "\n",
              "    .dataframe tbody tr th {\n",
              "        vertical-align: top;\n",
              "    }\n",
              "\n",
              "    .dataframe thead th {\n",
              "        text-align: right;\n",
              "    }\n",
              "</style>\n",
              "<table border=\"1\" class=\"dataframe\">\n",
              "  <thead>\n",
              "    <tr style=\"text-align: right;\">\n",
              "      <th></th>\n",
              "      <th>user_id</th>\n",
              "      <th>event_type_x</th>\n",
              "      <th>event_type_y</th>\n",
              "      <th>event_type</th>\n",
              "    </tr>\n",
              "  </thead>\n",
              "  <tbody>\n",
              "    <tr>\n",
              "      <th>0</th>\n",
              "      <td>27832</td>\n",
              "      <td>0</td>\n",
              "      <td>0</td>\n",
              "      <td>0</td>\n",
              "    </tr>\n",
              "    <tr>\n",
              "      <th>1</th>\n",
              "      <td>27833</td>\n",
              "      <td>1</td>\n",
              "      <td>1</td>\n",
              "      <td>0</td>\n",
              "    </tr>\n",
              "    <tr>\n",
              "      <th>2</th>\n",
              "      <td>27834</td>\n",
              "      <td>1</td>\n",
              "      <td>1</td>\n",
              "      <td>0</td>\n",
              "    </tr>\n",
              "    <tr>\n",
              "      <th>3</th>\n",
              "      <td>27835</td>\n",
              "      <td>1</td>\n",
              "      <td>1</td>\n",
              "      <td>0</td>\n",
              "    </tr>\n",
              "    <tr>\n",
              "      <th>4</th>\n",
              "      <td>27836</td>\n",
              "      <td>2</td>\n",
              "      <td>1</td>\n",
              "      <td>0</td>\n",
              "    </tr>\n",
              "    <tr>\n",
              "      <th>...</th>\n",
              "      <td>...</td>\n",
              "      <td>...</td>\n",
              "      <td>...</td>\n",
              "      <td>...</td>\n",
              "    </tr>\n",
              "    <tr>\n",
              "      <th>19921</th>\n",
              "      <td>47753</td>\n",
              "      <td>1</td>\n",
              "      <td>1</td>\n",
              "      <td>0</td>\n",
              "    </tr>\n",
              "    <tr>\n",
              "      <th>19922</th>\n",
              "      <td>47754</td>\n",
              "      <td>0</td>\n",
              "      <td>0</td>\n",
              "      <td>0</td>\n",
              "    </tr>\n",
              "    <tr>\n",
              "      <th>19923</th>\n",
              "      <td>47755</td>\n",
              "      <td>1</td>\n",
              "      <td>1</td>\n",
              "      <td>0</td>\n",
              "    </tr>\n",
              "    <tr>\n",
              "      <th>19924</th>\n",
              "      <td>47756</td>\n",
              "      <td>1</td>\n",
              "      <td>1</td>\n",
              "      <td>0</td>\n",
              "    </tr>\n",
              "    <tr>\n",
              "      <th>19925</th>\n",
              "      <td>47757</td>\n",
              "      <td>0</td>\n",
              "      <td>0</td>\n",
              "      <td>0</td>\n",
              "    </tr>\n",
              "  </tbody>\n",
              "</table>\n",
              "<p>19926 rows × 4 columns</p>\n",
              "</div>"
            ],
            "text/plain": [
              "       user_id  event_type_x  event_type_y  event_type\n",
              "0        27832             0             0           0\n",
              "1        27833             1             1           0\n",
              "2        27834             1             1           0\n",
              "3        27835             1             1           0\n",
              "4        27836             2             1           0\n",
              "...        ...           ...           ...         ...\n",
              "19921    47753             1             1           0\n",
              "19922    47754             0             0           0\n",
              "19923    47755             1             1           0\n",
              "19924    47756             1             1           0\n",
              "19925    47757             0             0           0\n",
              "\n",
              "[19926 rows x 4 columns]"
            ]
          },
          "execution_count": 187,
          "metadata": {},
          "output_type": "execute_result"
        }
      ]
    },
    {
      "cell_type": "code",
      "metadata": {
        "id": "uB2jtArxRbXi",
        "outputId": "57def2ea-0767-4f71-c49f-fb4a8c494fec"
      },
      "source": [
        "# Группа людей закончивших несколько раз обучение\n",
        "tut_count = total_events[total_events.event_type == 'tutorial_finish'].user_id.value_counts()\n",
        "tut_count.unique()\n",
        "tut_count"
      ],
      "execution_count": null,
      "outputs": [
        {
          "data": {
            "text/plain": [
              "35713    9\n",
              "47108    9\n",
              "29547    9\n",
              "44276    9\n",
              "39496    9\n",
              "        ..\n",
              "36959    1\n",
              "46060    1\n",
              "41057    1\n",
              "39014    1\n",
              "32768    1\n",
              "Name: user_id, Length: 10250, dtype: int64"
            ]
          },
          "execution_count": 188,
          "metadata": {},
          "output_type": "execute_result"
        }
      ]
    },
    {
      "cell_type": "code",
      "metadata": {
        "id": "fQ27jGHPRbXi",
        "outputId": "a15bd72e-8fca-4f06-ad03-e18f4faab441"
      },
      "source": [
        "# Переименовываем правильно столбцы\n",
        "tut_count_df = tut_count.reset_index()\n",
        "tut_count_df = tut_count_df.rename(columns = {'index':'user_id','user_id':'tut_count'})\n",
        "tut_count_df"
      ],
      "execution_count": null,
      "outputs": [
        {
          "data": {
            "text/html": [
              "<div>\n",
              "<style scoped>\n",
              "    .dataframe tbody tr th:only-of-type {\n",
              "        vertical-align: middle;\n",
              "    }\n",
              "\n",
              "    .dataframe tbody tr th {\n",
              "        vertical-align: top;\n",
              "    }\n",
              "\n",
              "    .dataframe thead th {\n",
              "        text-align: right;\n",
              "    }\n",
              "</style>\n",
              "<table border=\"1\" class=\"dataframe\">\n",
              "  <thead>\n",
              "    <tr style=\"text-align: right;\">\n",
              "      <th></th>\n",
              "      <th>user_id</th>\n",
              "      <th>tut_count</th>\n",
              "    </tr>\n",
              "  </thead>\n",
              "  <tbody>\n",
              "    <tr>\n",
              "      <th>0</th>\n",
              "      <td>35713</td>\n",
              "      <td>9</td>\n",
              "    </tr>\n",
              "    <tr>\n",
              "      <th>1</th>\n",
              "      <td>47108</td>\n",
              "      <td>9</td>\n",
              "    </tr>\n",
              "    <tr>\n",
              "      <th>2</th>\n",
              "      <td>29547</td>\n",
              "      <td>9</td>\n",
              "    </tr>\n",
              "    <tr>\n",
              "      <th>3</th>\n",
              "      <td>44276</td>\n",
              "      <td>9</td>\n",
              "    </tr>\n",
              "    <tr>\n",
              "      <th>4</th>\n",
              "      <td>39496</td>\n",
              "      <td>9</td>\n",
              "    </tr>\n",
              "    <tr>\n",
              "      <th>...</th>\n",
              "      <td>...</td>\n",
              "      <td>...</td>\n",
              "    </tr>\n",
              "    <tr>\n",
              "      <th>10245</th>\n",
              "      <td>36959</td>\n",
              "      <td>1</td>\n",
              "    </tr>\n",
              "    <tr>\n",
              "      <th>10246</th>\n",
              "      <td>46060</td>\n",
              "      <td>1</td>\n",
              "    </tr>\n",
              "    <tr>\n",
              "      <th>10247</th>\n",
              "      <td>41057</td>\n",
              "      <td>1</td>\n",
              "    </tr>\n",
              "    <tr>\n",
              "      <th>10248</th>\n",
              "      <td>39014</td>\n",
              "      <td>1</td>\n",
              "    </tr>\n",
              "    <tr>\n",
              "      <th>10249</th>\n",
              "      <td>32768</td>\n",
              "      <td>1</td>\n",
              "    </tr>\n",
              "  </tbody>\n",
              "</table>\n",
              "<p>10250 rows × 2 columns</p>\n",
              "</div>"
            ],
            "text/plain": [
              "       user_id  tut_count\n",
              "0        35713          9\n",
              "1        47108          9\n",
              "2        29547          9\n",
              "3        44276          9\n",
              "4        39496          9\n",
              "...        ...        ...\n",
              "10245    36959          1\n",
              "10246    46060          1\n",
              "10247    41057          1\n",
              "10248    39014          1\n",
              "10249    32768          1\n",
              "\n",
              "[10250 rows x 2 columns]"
            ]
          },
          "execution_count": 189,
          "metadata": {},
          "output_type": "execute_result"
        }
      ]
    },
    {
      "cell_type": "code",
      "metadata": {
        "id": "OF9Mf5XiRbXj",
        "outputId": "42daf832-2c80-4642-9a14-758b68ee5d97"
      },
      "source": [
        "# Датасет с покупателями\n",
        "purch = set(total_events[total_events.event_type == 'purchase'].user_id.unique())\n",
        "# Датасет с покуп. и непокуп.\n",
        "df3 = pd.DataFrame(index = ['purchase','no_purchase'])\n",
        "for i in range(1,10):\n",
        "    u = set(tut_count_df[tut_count_df.tut_count == i].user_id)\n",
        "    np = u-purch\n",
        "    p = u-np\n",
        "    df3[str(i)] = [len(p),len(np)]\n",
        "df3"
      ],
      "execution_count": null,
      "outputs": [
        {
          "data": {
            "text/html": [
              "<div>\n",
              "<style scoped>\n",
              "    .dataframe tbody tr th:only-of-type {\n",
              "        vertical-align: middle;\n",
              "    }\n",
              "\n",
              "    .dataframe tbody tr th {\n",
              "        vertical-align: top;\n",
              "    }\n",
              "\n",
              "    .dataframe thead th {\n",
              "        text-align: right;\n",
              "    }\n",
              "</style>\n",
              "<table border=\"1\" class=\"dataframe\">\n",
              "  <thead>\n",
              "    <tr style=\"text-align: right;\">\n",
              "      <th></th>\n",
              "      <th>1</th>\n",
              "      <th>2</th>\n",
              "      <th>3</th>\n",
              "      <th>4</th>\n",
              "      <th>5</th>\n",
              "      <th>6</th>\n",
              "      <th>7</th>\n",
              "      <th>8</th>\n",
              "      <th>9</th>\n",
              "    </tr>\n",
              "  </thead>\n",
              "  <tbody>\n",
              "    <tr>\n",
              "      <th>purchase</th>\n",
              "      <td>1143</td>\n",
              "      <td>182</td>\n",
              "      <td>44</td>\n",
              "      <td>19</td>\n",
              "      <td>19</td>\n",
              "      <td>15</td>\n",
              "      <td>15</td>\n",
              "      <td>6</td>\n",
              "      <td>4</td>\n",
              "    </tr>\n",
              "    <tr>\n",
              "      <th>no_purchase</th>\n",
              "      <td>6872</td>\n",
              "      <td>1139</td>\n",
              "      <td>301</td>\n",
              "      <td>159</td>\n",
              "      <td>98</td>\n",
              "      <td>86</td>\n",
              "      <td>82</td>\n",
              "      <td>48</td>\n",
              "      <td>18</td>\n",
              "    </tr>\n",
              "  </tbody>\n",
              "</table>\n",
              "</div>"
            ],
            "text/plain": [
              "                1     2    3    4   5   6   7   8   9\n",
              "purchase     1143   182   44   19  19  15  15   6   4\n",
              "no_purchase  6872  1139  301  159  98  86  82  48  18"
            ]
          },
          "execution_count": 190,
          "metadata": {},
          "output_type": "execute_result"
        }
      ]
    },
    {
      "cell_type": "code",
      "metadata": {
        "id": "zfKMGS2KRbXj",
        "outputId": "bc562d5e-608f-463a-f90a-7a57b04153ac"
      },
      "source": [
        "# Возвращает axs3 в виде двумерного массива\n",
        "f3, axs3 = plt.subplots(3, 3, figsize = (12, 12))\n",
        "for i in range(9):\n",
        "    # Получаем по i 2 координаты (j и k)\n",
        "    j = i // 3 \n",
        "    k = i - j*3\n",
        "    # Пришлось заменить df3.plot.pie на ax3[j][k].pie(...), т.к. иначе вставка графика происходит не в ячейку, а за сеткой\n",
        "    axs3[j][k].pie(x=df3[str(i+1)], labels=df3.index, autopct='%.2f%%')\n",
        "    # Заголовок к каждому графику\n",
        "    axs3[j][k].set_title(label=f\"Число обучений: {str(i+1)}\")\n",
        "plt.show()"
      ],
      "execution_count": null,
      "outputs": [
        {
          "data": {
            "image/png": "[encoded data removed]",
            "text/plain": [
              "<Figure size 864x864 with 9 Axes>"
            ]
          },
          "metadata": {},
          "output_type": "display_data"
        }
      ]
    },
    {
      "cell_type": "markdown",
      "metadata": {
        "id": "JKhA_e1FRbXk"
      },
      "source": [
        "## Выводы по гипотезе №2\n",
        "### Гипотеза №2 подтвердилась. Успешное прохождение обучения влияет на вероятность оплаты.\n",
        "\n",
        "#### Процент оплат снижается с увеличением числа прохождения оплат до 4 (с 14,26% до 10,67%). На 5 разе значительно возрастает(16,24%), но после снова снижается вплоть до 8 раза. На 9 разе прохождения замечено сильное увеличение процента оплат (18,18%) по сравнению со всеми диаграммами."
      ]
    },
    {
      "cell_type": "markdown",
      "metadata": {
        "id": "IwNj1REFRbXk"
      },
      "source": [
        "## Дополнительная задача\n",
        "\n",
        "### Как часто пользователи начинают обучение после того, как они выбрали уровень сложности?"
      ]
    },
    {
      "cell_type": "code",
      "metadata": {
        "id": "OzOt_GQGRbXk",
        "outputId": "50d659f0-8590-4ce3-c01d-3fbe441131b2"
      },
      "source": [
        "# Датафрейм, содержащий пользователей, подходящих под категорию\n",
        "pivot = total_events.pivot_table(values = ['start_time'], index = ['user_id'], columns = ['event_type'], aggfunc = 'max')\n",
        "pivot.columns=list(map('_'.join,pivot))\n",
        "pivot = pivot.reset_index()\n",
        "pivot['timedelta_tut_lvl'] = pivot['start_time_tutorial_start'] - pivot['start_time_level_choice']\n",
        "pivot_repeat = pivot[pivot.timedelta_tut_lvl > '00:00:00']\n",
        "pivot_repeat"
      ],
      "execution_count": null,
      "outputs": [
        {
          "data": {
            "text/html": [
              "<div>\n",
              "<style scoped>\n",
              "    .dataframe tbody tr th:only-of-type {\n",
              "        vertical-align: middle;\n",
              "    }\n",
              "\n",
              "    .dataframe tbody tr th {\n",
              "        vertical-align: top;\n",
              "    }\n",
              "\n",
              "    .dataframe thead th {\n",
              "        text-align: right;\n",
              "    }\n",
              "</style>\n",
              "<table border=\"1\" class=\"dataframe\">\n",
              "  <thead>\n",
              "    <tr style=\"text-align: right;\">\n",
              "      <th></th>\n",
              "      <th>user_id</th>\n",
              "      <th>start_time_level_choice</th>\n",
              "      <th>start_time_pack_choice</th>\n",
              "      <th>start_time_purchase</th>\n",
              "      <th>start_time_registration</th>\n",
              "      <th>start_time_tutorial_finish</th>\n",
              "      <th>start_time_tutorial_start</th>\n",
              "      <th>timedelta_tut_lvl</th>\n",
              "    </tr>\n",
              "  </thead>\n",
              "  <tbody>\n",
              "    <tr>\n",
              "      <th>10</th>\n",
              "      <td>27842</td>\n",
              "      <td>2018-01-02 08:46:03</td>\n",
              "      <td>NaT</td>\n",
              "      <td>NaT</td>\n",
              "      <td>2018-01-01 23:18:46</td>\n",
              "      <td>2018-01-02 18:11:26</td>\n",
              "      <td>2018-01-02 18:08:01</td>\n",
              "      <td>0 days 09:21:58</td>\n",
              "    </tr>\n",
              "    <tr>\n",
              "      <th>13</th>\n",
              "      <td>27845</td>\n",
              "      <td>2018-01-02 06:19:18</td>\n",
              "      <td>2018-01-02 06:25:12</td>\n",
              "      <td>2018-01-03 18:53:43</td>\n",
              "      <td>2018-01-02 01:35:56</td>\n",
              "      <td>2018-01-02 07:09:50</td>\n",
              "      <td>2018-01-02 07:08:00</td>\n",
              "      <td>0 days 00:48:42</td>\n",
              "    </tr>\n",
              "    <tr>\n",
              "      <th>20</th>\n",
              "      <td>27852</td>\n",
              "      <td>2018-01-02 18:39:44</td>\n",
              "      <td>NaT</td>\n",
              "      <td>NaT</td>\n",
              "      <td>2018-01-02 15:10:51</td>\n",
              "      <td>2018-01-02 20:38:04</td>\n",
              "      <td>2018-01-02 20:34:31</td>\n",
              "      <td>0 days 01:54:47</td>\n",
              "    </tr>\n",
              "    <tr>\n",
              "      <th>30</th>\n",
              "      <td>27862</td>\n",
              "      <td>2018-01-03 04:19:32</td>\n",
              "      <td>NaT</td>\n",
              "      <td>NaT</td>\n",
              "      <td>2018-01-03 00:58:05</td>\n",
              "      <td>2018-01-03 18:13:07</td>\n",
              "      <td>2018-01-03 18:10:28</td>\n",
              "      <td>0 days 13:50:56</td>\n",
              "    </tr>\n",
              "    <tr>\n",
              "      <th>44</th>\n",
              "      <td>27876</td>\n",
              "      <td>2018-01-04 04:29:55</td>\n",
              "      <td>NaT</td>\n",
              "      <td>NaT</td>\n",
              "      <td>2018-01-03 23:26:04</td>\n",
              "      <td>2018-01-04 05:04:16</td>\n",
              "      <td>2018-01-04 05:02:37</td>\n",
              "      <td>0 days 00:32:42</td>\n",
              "    </tr>\n",
              "    <tr>\n",
              "      <th>...</th>\n",
              "      <td>...</td>\n",
              "      <td>...</td>\n",
              "      <td>...</td>\n",
              "      <td>...</td>\n",
              "      <td>...</td>\n",
              "      <td>...</td>\n",
              "      <td>...</td>\n",
              "      <td>...</td>\n",
              "    </tr>\n",
              "    <tr>\n",
              "      <th>19763</th>\n",
              "      <td>47595</td>\n",
              "      <td>2018-12-27 18:52:43</td>\n",
              "      <td>NaT</td>\n",
              "      <td>NaT</td>\n",
              "      <td>2018-12-27 14:07:05</td>\n",
              "      <td>2018-12-27 21:14:07</td>\n",
              "      <td>2018-12-27 21:06:47</td>\n",
              "      <td>0 days 02:14:04</td>\n",
              "    </tr>\n",
              "    <tr>\n",
              "      <th>19803</th>\n",
              "      <td>47635</td>\n",
              "      <td>2018-12-28 11:43:38</td>\n",
              "      <td>2018-12-28 11:46:11</td>\n",
              "      <td>2018-12-31 16:32:52</td>\n",
              "      <td>2018-12-28 07:34:06</td>\n",
              "      <td>2018-12-28 17:31:05</td>\n",
              "      <td>2018-12-28 17:28:42</td>\n",
              "      <td>0 days 05:45:04</td>\n",
              "    </tr>\n",
              "    <tr>\n",
              "      <th>19825</th>\n",
              "      <td>47657</td>\n",
              "      <td>2018-12-28 21:25:49</td>\n",
              "      <td>NaT</td>\n",
              "      <td>NaT</td>\n",
              "      <td>2018-12-28 15:45:10</td>\n",
              "      <td>2018-12-28 21:59:25</td>\n",
              "      <td>2018-12-28 21:53:06</td>\n",
              "      <td>0 days 00:27:17</td>\n",
              "    </tr>\n",
              "    <tr>\n",
              "      <th>19879</th>\n",
              "      <td>47711</td>\n",
              "      <td>2018-12-29 21:23:23</td>\n",
              "      <td>2018-12-29 21:28:47</td>\n",
              "      <td>NaT</td>\n",
              "      <td>2018-12-29 17:59:45</td>\n",
              "      <td>2018-12-29 22:55:12</td>\n",
              "      <td>2018-12-29 22:50:57</td>\n",
              "      <td>0 days 01:27:34</td>\n",
              "    </tr>\n",
              "    <tr>\n",
              "      <th>19892</th>\n",
              "      <td>47724</td>\n",
              "      <td>2018-12-30 13:21:12</td>\n",
              "      <td>2018-12-30 13:29:12</td>\n",
              "      <td>NaT</td>\n",
              "      <td>2018-12-30 10:03:30</td>\n",
              "      <td>2018-12-31 02:49:28</td>\n",
              "      <td>2018-12-31 02:47:53</td>\n",
              "      <td>0 days 13:26:41</td>\n",
              "    </tr>\n",
              "  </tbody>\n",
              "</table>\n",
              "<p>1386 rows × 8 columns</p>\n",
              "</div>"
            ],
            "text/plain": [
              "       user_id start_time_level_choice start_time_pack_choice  \\\n",
              "10       27842     2018-01-02 08:46:03                    NaT   \n",
              "13       27845     2018-01-02 06:19:18    2018-01-02 06:25:12   \n",
              "20       27852     2018-01-02 18:39:44                    NaT   \n",
              "30       27862     2018-01-03 04:19:32                    NaT   \n",
              "44       27876     2018-01-04 04:29:55                    NaT   \n",
              "...        ...                     ...                    ...   \n",
              "19763    47595     2018-12-27 18:52:43                    NaT   \n",
              "19803    47635     2018-12-28 11:43:38    2018-12-28 11:46:11   \n",
              "19825    47657     2018-12-28 21:25:49                    NaT   \n",
              "19879    47711     2018-12-29 21:23:23    2018-12-29 21:28:47   \n",
              "19892    47724     2018-12-30 13:21:12    2018-12-30 13:29:12   \n",
              "\n",
              "      start_time_purchase start_time_registration start_time_tutorial_finish  \\\n",
              "10                    NaT     2018-01-01 23:18:46        2018-01-02 18:11:26   \n",
              "13    2018-01-03 18:53:43     2018-01-02 01:35:56        2018-01-02 07:09:50   \n",
              "20                    NaT     2018-01-02 15:10:51        2018-01-02 20:38:04   \n",
              "30                    NaT     2018-01-03 00:58:05        2018-01-03 18:13:07   \n",
              "44                    NaT     2018-01-03 23:26:04        2018-01-04 05:04:16   \n",
              "...                   ...                     ...                        ...   \n",
              "19763                 NaT     2018-12-27 14:07:05        2018-12-27 21:14:07   \n",
              "19803 2018-12-31 16:32:52     2018-12-28 07:34:06        2018-12-28 17:31:05   \n",
              "19825                 NaT     2018-12-28 15:45:10        2018-12-28 21:59:25   \n",
              "19879                 NaT     2018-12-29 17:59:45        2018-12-29 22:55:12   \n",
              "19892                 NaT     2018-12-30 10:03:30        2018-12-31 02:49:28   \n",
              "\n",
              "      start_time_tutorial_start timedelta_tut_lvl  \n",
              "10          2018-01-02 18:08:01   0 days 09:21:58  \n",
              "13          2018-01-02 07:08:00   0 days 00:48:42  \n",
              "20          2018-01-02 20:34:31   0 days 01:54:47  \n",
              "30          2018-01-03 18:10:28   0 days 13:50:56  \n",
              "44          2018-01-04 05:02:37   0 days 00:32:42  \n",
              "...                         ...               ...  \n",
              "19763       2018-12-27 21:06:47   0 days 02:14:04  \n",
              "19803       2018-12-28 17:28:42   0 days 05:45:04  \n",
              "19825       2018-12-28 21:53:06   0 days 00:27:17  \n",
              "19879       2018-12-29 22:50:57   0 days 01:27:34  \n",
              "19892       2018-12-31 02:47:53   0 days 13:26:41  \n",
              "\n",
              "[1386 rows x 8 columns]"
            ]
          },
          "execution_count": 192,
          "metadata": {},
          "output_type": "execute_result"
        }
      ]
    },
    {
      "cell_type": "code",
      "metadata": {
        "id": "PZvah9jDRbXl"
      },
      "source": [
        "repeat = set(pivot_repeat.user_id.unique())\n",
        "\n",
        "pivot_lvl_ch = pivot[pivot.start_time_level_choice.notnull()]\n",
        "lvl_ch = set(pivot_lvl_ch.user_id.unique())"
      ],
      "execution_count": null,
      "outputs": []
    },
    {
      "cell_type": "code",
      "metadata": {
        "id": "oHDcms60RbXl",
        "outputId": "e709ae6d-b2e6-40a3-d599-ab02e06df3e1"
      },
      "source": [
        "for_pie = pd.DataFrame(index = ['repeat_tut','all_lvl_ch'])\n",
        "for_pie['num'] = [len(repeat),len(lvl_ch)]\n",
        "for_pie"
      ],
      "execution_count": null,
      "outputs": [
        {
          "data": {
            "text/html": [
              "<div>\n",
              "<style scoped>\n",
              "    .dataframe tbody tr th:only-of-type {\n",
              "        vertical-align: middle;\n",
              "    }\n",
              "\n",
              "    .dataframe tbody tr th {\n",
              "        vertical-align: top;\n",
              "    }\n",
              "\n",
              "    .dataframe thead th {\n",
              "        text-align: right;\n",
              "    }\n",
              "</style>\n",
              "<table border=\"1\" class=\"dataframe\">\n",
              "  <thead>\n",
              "    <tr style=\"text-align: right;\">\n",
              "      <th></th>\n",
              "      <th>num</th>\n",
              "    </tr>\n",
              "  </thead>\n",
              "  <tbody>\n",
              "    <tr>\n",
              "      <th>repeat_tut</th>\n",
              "      <td>1386</td>\n",
              "    </tr>\n",
              "    <tr>\n",
              "      <th>all_lvl_ch</th>\n",
              "      <td>8342</td>\n",
              "    </tr>\n",
              "  </tbody>\n",
              "</table>\n",
              "</div>"
            ],
            "text/plain": [
              "             num\n",
              "repeat_tut  1386\n",
              "all_lvl_ch  8342"
            ]
          },
          "execution_count": 194,
          "metadata": {},
          "output_type": "execute_result"
        }
      ]
    },
    {
      "cell_type": "code",
      "metadata": {
        "id": "hBeeeaqXRbXm",
        "outputId": "ffa81446-c23a-491c-f371-ec5abd46135e"
      },
      "source": [
        "fig1, ax1 = plt.subplots()\n",
        "ax1.pie(x = for_pie['num'], labels=for_pie.index, autopct='%1.1f%%',\n",
        "        shadow=True)\n",
        "ax1.axis('equal')\n",
        "ax1.set_title(label = \"Пользователи, начавшие обучение после выбора уровня сложности\")\n",
        "plt.show()"
      ],
      "execution_count": null,
      "outputs": [
        {
          "data": {
            "image/png": "[encoded data removed]",
            "text/plain": [
              "<Figure size 432x288 with 1 Axes>"
            ]
          },
          "metadata": {},
          "output_type": "display_data"
        }
      ]
    },
    {
      "cell_type": "markdown",
      "metadata": {
        "id": "7WPoHjURRbXm"
      },
      "source": [
        "## Выводы к доп. задаче:\n",
        "### 14% пользователей, выбравших уровень сложности, возвращаются к обучению. Данный факт говорит о том, что для некоторых пользователей работа с приложением всё-таки вызывает трудности. Возможно стоит сделать процесс обучения проще или же попробовать улучшить интерфейс игры."
      ]
    }
  ]
}